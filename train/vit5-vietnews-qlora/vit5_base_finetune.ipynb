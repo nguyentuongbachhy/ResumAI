{
 "cells": [
  {
   "cell_type": "markdown",
   "id": "1fd4468a",
   "metadata": {
    "papermill": {
     "duration": 0.004313,
     "end_time": "2025-05-30T00:50:06.712144",
     "exception": false,
     "start_time": "2025-05-30T00:50:06.707831",
     "status": "completed"
    },
    "tags": []
   },
   "source": [
    "# "
   ]
  },
  {
   "cell_type": "code",
   "execution_count": 1,
   "id": "d68e5b17",
   "metadata": {
    "_cell_guid": "b1076dfc-b9ad-4769-8c92-a6c4dae69d19",
    "_uuid": "8f2839f25d086af736a60e9eeb907d3b93b6e0e5",
    "execution": {
     "iopub.execute_input": "2025-05-30T00:50:06.723573Z",
     "iopub.status.busy": "2025-05-30T00:50:06.723337Z",
     "iopub.status.idle": "2025-05-30T00:50:24.331369Z",
     "shell.execute_reply": "2025-05-30T00:50:24.325275Z"
    },
    "papermill": {
     "duration": 17.617483,
     "end_time": "2025-05-30T00:50:24.333565",
     "exception": false,
     "start_time": "2025-05-30T00:50:06.716082",
     "status": "completed"
    },
    "tags": []
   },
   "outputs": [
    {
     "name": "stdout",
     "output_type": "stream",
     "text": [
      "\u001b[33mWARNING: Running pip as the 'root' user can result in broken permissions and conflicting behaviour with the system package manager. It is recommended to use a virtual environment instead: https://pip.pypa.io/warnings/venv\u001b[0m\u001b[33m\r\n",
      "\u001b[0m"
     ]
    },
    {
     "name": "stdout",
     "output_type": "stream",
     "text": [
      "\r\n",
      "\u001b[1m[\u001b[0m\u001b[34;49mnotice\u001b[0m\u001b[1;39;49m]\u001b[0m\u001b[39;49m A new release of pip is available: \u001b[0m\u001b[31;49m23.0.1\u001b[0m\u001b[39;49m -> \u001b[0m\u001b[32;49m25.1.1\u001b[0m\r\n",
      "\u001b[1m[\u001b[0m\u001b[34;49mnotice\u001b[0m\u001b[1;39;49m]\u001b[0m\u001b[39;49m To update, run: \u001b[0m\u001b[32;49mpip install --upgrade pip\u001b[0m\r\n"
     ]
    }
   ],
   "source": [
    "!pip install datasets transformers peft trl evaluate accelerate bitsandbytes --quiet"
   ]
  },
  {
   "cell_type": "code",
   "execution_count": 2,
   "id": "ad85a9a2",
   "metadata": {
    "execution": {
     "iopub.execute_input": "2025-05-30T00:50:24.345416Z",
     "iopub.status.busy": "2025-05-30T00:50:24.345176Z",
     "iopub.status.idle": "2025-05-30T00:51:13.292161Z",
     "shell.execute_reply": "2025-05-30T00:51:13.286051Z"
    },
    "papermill": {
     "duration": 48.957073,
     "end_time": "2025-05-30T00:51:13.295190",
     "exception": false,
     "start_time": "2025-05-30T00:50:24.338117",
     "status": "completed"
    },
    "tags": []
   },
   "outputs": [
    {
     "name": "stderr",
     "output_type": "stream",
     "text": [
      "/usr/local/lib/python3.10/site-packages/tqdm/auto.py:21: TqdmWarning: IProgress not found. Please update jupyter and ipywidgets. See https://ipywidgets.readthedocs.io/en/stable/user_install.html\n",
      "  from .autonotebook import tqdm as notebook_tqdm\n"
     ]
    },
    {
     "name": "stderr",
     "output_type": "stream",
     "text": [
      "/usr/local/lib/python3.10/site-packages/torch_xla/__init__.py:251: UserWarning: `tensorflow` can conflict with `torch-xla`. Prefer `tensorflow-cpu` when using PyTorch/XLA. To silence this warning, `pip uninstall -y tensorflow && pip install tensorflow-cpu`. If you are in a notebook environment such as Colab or Kaggle, restart your notebook runtime afterwards.\n",
      "  warnings.warn(\n"
     ]
    }
   ],
   "source": [
    "# 1. Load các thư viện cần thiết\n",
    "from datasets import load_dataset\n",
    "import pandas as pd\n",
    "import matplotlib.pyplot as plt\n",
    "from transformers import AutoTokenizer\n",
    "from sklearn.model_selection import train_test_split"
   ]
  },
  {
   "cell_type": "code",
   "execution_count": 3,
   "id": "2186981d",
   "metadata": {
    "execution": {
     "iopub.execute_input": "2025-05-30T00:51:13.307779Z",
     "iopub.status.busy": "2025-05-30T00:51:13.307315Z",
     "iopub.status.idle": "2025-05-30T00:51:24.839029Z",
     "shell.execute_reply": "2025-05-30T00:51:24.833445Z"
    },
    "papermill": {
     "duration": 11.542753,
     "end_time": "2025-05-30T00:51:24.842363",
     "exception": false,
     "start_time": "2025-05-30T00:51:13.299610",
     "status": "completed"
    },
    "tags": []
   },
   "outputs": [
    {
     "name": "stderr",
     "output_type": "stream",
     "text": [
      "\r",
      "Generating train split:   0%|          | 0/99134 [00:00<?, ? examples/s]"
     ]
    },
    {
     "name": "stderr",
     "output_type": "stream",
     "text": [
      "\r",
      "Generating train split:   5%|▌         | 5000/99134 [00:00<00:02, 44081.06 examples/s]"
     ]
    },
    {
     "name": "stderr",
     "output_type": "stream",
     "text": [
      "\r",
      "Generating train split:  14%|█▍        | 14000/99134 [00:00<00:01, 66965.26 examples/s]"
     ]
    },
    {
     "name": "stderr",
     "output_type": "stream",
     "text": [
      "\r",
      "Generating train split:  25%|██▌       | 25000/99134 [00:00<00:00, 77625.23 examples/s]"
     ]
    },
    {
     "name": "stderr",
     "output_type": "stream",
     "text": [
      "\r",
      "Generating train split:  36%|███▋      | 36000/99134 [00:00<00:00, 87427.65 examples/s]"
     ]
    },
    {
     "name": "stderr",
     "output_type": "stream",
     "text": [
      "\r",
      "Generating train split:  48%|████▊     | 48000/99134 [00:00<00:00, 96204.96 examples/s]"
     ]
    },
    {
     "name": "stderr",
     "output_type": "stream",
     "text": [
      "\r",
      "Generating train split:  60%|█████▉    | 59000/99134 [00:00<00:00, 96837.62 examples/s]"
     ]
    },
    {
     "name": "stderr",
     "output_type": "stream",
     "text": [
      "\r",
      "Generating train split:  72%|███████▏  | 71000/99134 [00:00<00:00, 97710.28 examples/s]"
     ]
    },
    {
     "name": "stderr",
     "output_type": "stream",
     "text": [
      "\r",
      "Generating train split:  82%|████████▏ | 81000/99134 [00:00<00:00, 91673.08 examples/s]"
     ]
    },
    {
     "name": "stderr",
     "output_type": "stream",
     "text": [
      "\r",
      "Generating train split:  96%|█████████▌| 95000/99134 [00:01<00:00, 101200.14 examples/s]"
     ]
    },
    {
     "name": "stderr",
     "output_type": "stream",
     "text": [
      "\r",
      "Generating train split: 100%|██████████| 99134/99134 [00:01<00:00, 92448.69 examples/s] "
     ]
    },
    {
     "name": "stderr",
     "output_type": "stream",
     "text": [
      "\n"
     ]
    },
    {
     "name": "stderr",
     "output_type": "stream",
     "text": [
      "\r",
      "Generating validation split:   0%|          | 0/22184 [00:00<?, ? examples/s]"
     ]
    },
    {
     "name": "stderr",
     "output_type": "stream",
     "text": [
      "\r",
      "Generating validation split:  36%|███▌      | 8000/22184 [00:00<00:00, 74549.33 examples/s]"
     ]
    },
    {
     "name": "stderr",
     "output_type": "stream",
     "text": [
      "\r",
      "Generating validation split:  90%|█████████ | 20000/22184 [00:00<00:00, 95143.64 examples/s]"
     ]
    },
    {
     "name": "stderr",
     "output_type": "stream",
     "text": [
      "\r",
      "Generating validation split: 100%|██████████| 22184/22184 [00:00<00:00, 95302.54 examples/s]"
     ]
    },
    {
     "name": "stderr",
     "output_type": "stream",
     "text": [
      "\n"
     ]
    },
    {
     "name": "stderr",
     "output_type": "stream",
     "text": [
      "\r",
      "Generating test split:   0%|          | 0/22498 [00:00<?, ? examples/s]"
     ]
    },
    {
     "name": "stderr",
     "output_type": "stream",
     "text": [
      "\r",
      "Generating test split:  36%|███▌      | 8000/22498 [00:00<00:00, 75289.02 examples/s]"
     ]
    },
    {
     "name": "stderr",
     "output_type": "stream",
     "text": [
      "\r",
      "Generating test split:  89%|████████▉ | 20000/22498 [00:00<00:00, 96977.81 examples/s]"
     ]
    },
    {
     "name": "stderr",
     "output_type": "stream",
     "text": [
      "\r",
      "Generating test split: 100%|██████████| 22498/22498 [00:00<00:00, 97742.10 examples/s]"
     ]
    },
    {
     "name": "stderr",
     "output_type": "stream",
     "text": [
      "\n"
     ]
    }
   ],
   "source": [
    "# 2. Load dữ liệu VietNews\n",
    "dataset = load_dataset(\"harouzie/vietnews\", split=\"train\")\n",
    "df = pd.DataFrame(dataset)"
   ]
  },
  {
   "cell_type": "code",
   "execution_count": 4,
   "id": "728518cd",
   "metadata": {
    "execution": {
     "iopub.execute_input": "2025-05-30T00:51:24.859118Z",
     "iopub.status.busy": "2025-05-30T00:51:24.858726Z",
     "iopub.status.idle": "2025-05-30T00:51:25.713435Z",
     "shell.execute_reply": "2025-05-30T00:51:25.707573Z"
    },
    "papermill": {
     "duration": 0.866941,
     "end_time": "2025-05-30T00:51:25.715622",
     "exception": false,
     "start_time": "2025-05-30T00:51:24.848681",
     "status": "completed"
    },
    "tags": []
   },
   "outputs": [
    {
     "data": {
      "image/png": "[encoded data removed]",
      "text/plain": [
       "<Figure size 640x480 with 2 Axes>"
      ]
     },
     "metadata": {},
     "output_type": "display_data"
    }
   ],
   "source": [
    "# 3. Phân tích độ dài văn bản\n",
    "df['article_len'] = df['article'].str.len()\n",
    "df['abstract_len'] = df['abstract'].str.len()\n",
    "\n",
    "df[['article_len', 'abstract_len']].hist(bins=30)\n",
    "plt.show()"
   ]
  },
  {
   "cell_type": "code",
   "execution_count": 5,
   "id": "f9e59d40",
   "metadata": {
    "execution": {
     "iopub.execute_input": "2025-05-30T00:51:25.730801Z",
     "iopub.status.busy": "2025-05-30T00:51:25.730545Z",
     "iopub.status.idle": "2025-05-30T00:51:25.751181Z",
     "shell.execute_reply": "2025-05-30T00:51:25.746490Z"
    },
    "papermill": {
     "duration": 0.032675,
     "end_time": "2025-05-30T00:51:25.753935",
     "exception": false,
     "start_time": "2025-05-30T00:51:25.721260",
     "status": "completed"
    },
    "tags": []
   },
   "outputs": [],
   "source": [
    "# 4. Tiền xử lý: lọc văn bản quá ngắn hoặc quá dài\n",
    "df = df[(df['article_len'] > 300) & (df['article_len'] < 3000)]"
   ]
  },
  {
   "cell_type": "code",
   "execution_count": 6,
   "id": "ee6e555c",
   "metadata": {
    "execution": {
     "iopub.execute_input": "2025-05-30T00:51:25.768638Z",
     "iopub.status.busy": "2025-05-30T00:51:25.768421Z",
     "iopub.status.idle": "2025-05-30T00:51:26.479957Z",
     "shell.execute_reply": "2025-05-30T00:51:26.474788Z"
    },
    "papermill": {
     "duration": 0.723113,
     "end_time": "2025-05-30T00:51:26.482473",
     "exception": false,
     "start_time": "2025-05-30T00:51:25.759360",
     "status": "completed"
    },
    "tags": []
   },
   "outputs": [],
   "source": [
    "# 5. Tạo định dạng instruction-style cho QLoRA\n",
    "def format_example(row):\n",
    "    return {\n",
    "        \"instruction\": \"Tóm tắt bài báo sau bằng tiếng Việt:\",\n",
    "        \"input\": row[\"article\"],\n",
    "        \"output\": row[\"abstract\"]\n",
    "    }\n",
    "\n",
    "formatted = df.apply(format_example, axis=1)\n",
    "formatted_ds = pd.DataFrame(formatted.tolist())"
   ]
  },
  {
   "cell_type": "code",
   "execution_count": 7,
   "id": "7228bd97",
   "metadata": {
    "execution": {
     "iopub.execute_input": "2025-05-30T00:51:26.498157Z",
     "iopub.status.busy": "2025-05-30T00:51:26.497918Z",
     "iopub.status.idle": "2025-05-30T00:51:26.517281Z",
     "shell.execute_reply": "2025-05-30T00:51:26.511042Z"
    },
    "papermill": {
     "duration": 0.031548,
     "end_time": "2025-05-30T00:51:26.519941",
     "exception": false,
     "start_time": "2025-05-30T00:51:26.488393",
     "status": "completed"
    },
    "tags": []
   },
   "outputs": [],
   "source": [
    "# 6. Chia train / val\n",
    "train_df, val_df = train_test_split(formatted_ds, test_size=0.05, random_state=42)"
   ]
  },
  {
   "cell_type": "code",
   "execution_count": 8,
   "id": "a8c426bf",
   "metadata": {
    "execution": {
     "iopub.execute_input": "2025-05-30T00:51:26.535152Z",
     "iopub.status.busy": "2025-05-30T00:51:26.534933Z",
     "iopub.status.idle": "2025-05-30T00:51:32.587169Z",
     "shell.execute_reply": "2025-05-30T00:51:32.581808Z"
    },
    "papermill": {
     "duration": 6.064192,
     "end_time": "2025-05-30T00:51:32.589916",
     "exception": false,
     "start_time": "2025-05-30T00:51:26.525724",
     "status": "completed"
    },
    "tags": []
   },
   "outputs": [],
   "source": [
    "# 7. Save to disk để dùng huấn luyện\n",
    "train_df.to_json(\"train.json\", orient=\"records\", lines=True, force_ascii=False)\n",
    "val_df.to_json(\"val.json\", orient=\"records\", lines=True, force_ascii=False)"
   ]
  },
  {
   "cell_type": "code",
   "execution_count": 9,
   "id": "2f690077",
   "metadata": {
    "execution": {
     "iopub.execute_input": "2025-05-30T00:51:32.605774Z",
     "iopub.status.busy": "2025-05-30T00:51:32.605492Z",
     "iopub.status.idle": "2025-05-30T00:51:56.671659Z",
     "shell.execute_reply": "2025-05-30T00:51:56.664708Z"
    },
    "papermill": {
     "duration": 24.079048,
     "end_time": "2025-05-30T00:51:56.675049",
     "exception": true,
     "start_time": "2025-05-30T00:51:32.596001",
     "status": "failed"
    },
    "tags": []
   },
   "outputs": [
    {
     "name": "stderr",
     "output_type": "stream",
     "text": [
      "WARNING: Logging before InitGoogle() is written to STDERR\n",
      "E0000 00:00:1748566300.332863      74 common_lib.cc:612] Could not set metric server port: INVALID_ARGUMENT: Could not find SliceBuilder port 8471 in any of the 0 ports provided in `tpu_process_addresses`=\"local\"\n",
      "=== Source Location Trace: === \n",
      "learning/45eac/tfrc/runtime/common_lib.cc:230\n"
     ]
    },
    {
     "name": "stderr",
     "output_type": "stream",
     "text": [
      "The `load_in_4bit` and `load_in_8bit` arguments are deprecated and will be removed in the future versions. Please, pass a `BitsAndBytesConfig` object in `quantization_config` argument instead.\n"
     ]
    },
    {
     "name": "stderr",
     "output_type": "stream",
     "text": [
      "WARNING:bitsandbytes.cextension:The installed version of bitsandbytes was compiled without GPU support. 8-bit optimizers and GPU quantization are unavailable.\n"
     ]
    },
    {
     "name": "stderr",
     "output_type": "stream",
     "text": [
      "None of the available devices `available_devices = None` are supported by the bitsandbytes version you have installed: `bnb_supported_devices = {'npu', 'cuda', 'mps', 'hpu', 'xpu', '\"cpu\" (needs an Intel CPU and intel_extension_for_pytorch installed and compatible with the PyTorch version)'}`. Please check the docs to see if the backend you intend to use is available and how to install it: https://huggingface.co/docs/bitsandbytes/main/en/installation#multi-backend\n"
     ]
    },
    {
     "ename": "RuntimeError",
     "evalue": "None of the available devices `available_devices = None` are supported by the bitsandbytes version you have installed: `bnb_supported_devices = {'npu', 'cuda', 'mps', 'hpu', 'xpu', '\"cpu\" (needs an Intel CPU and intel_extension_for_pytorch installed and compatible with the PyTorch version)'}`. Please check the docs to see if the backend you intend to use is available and how to install it: https://huggingface.co/docs/bitsandbytes/main/en/installation#multi-backend",
     "output_type": "error",
     "traceback": [
      "\u001b[0;31m---------------------------------------------------------------------------\u001b[0m",
      "\u001b[0;31mRuntimeError\u001b[0m                              Traceback (most recent call last)",
      "Cell \u001b[0;32mIn[9], line 11\u001b[0m\n\u001b[1;32m      8\u001b[0m model_name \u001b[38;5;241m=\u001b[39m \u001b[38;5;124m\"\u001b[39m\u001b[38;5;124mVietAI/vit5-base\u001b[39m\u001b[38;5;124m\"\u001b[39m\n\u001b[1;32m     10\u001b[0m \u001b[38;5;66;03m# Tải model dạng 4-bit QLoRA\u001b[39;00m\n\u001b[0;32m---> 11\u001b[0m model \u001b[38;5;241m=\u001b[39m \u001b[43mAutoModelForSeq2SeqLM\u001b[49m\u001b[38;5;241;43m.\u001b[39;49m\u001b[43mfrom_pretrained\u001b[49m\u001b[43m(\u001b[49m\n\u001b[1;32m     12\u001b[0m \u001b[43m    \u001b[49m\u001b[43mmodel_name\u001b[49m\u001b[43m,\u001b[49m\n\u001b[1;32m     13\u001b[0m \u001b[43m    \u001b[49m\u001b[43mdevice_map\u001b[49m\u001b[38;5;241;43m=\u001b[39;49m\u001b[38;5;124;43m\"\u001b[39;49m\u001b[38;5;124;43mauto\u001b[39;49m\u001b[38;5;124;43m\"\u001b[39;49m\u001b[43m,\u001b[49m\n\u001b[1;32m     14\u001b[0m \u001b[43m    \u001b[49m\u001b[43mload_in_4bit\u001b[49m\u001b[38;5;241;43m=\u001b[39;49m\u001b[38;5;28;43;01mTrue\u001b[39;49;00m\u001b[43m,\u001b[49m\n\u001b[1;32m     15\u001b[0m \u001b[43m    \u001b[49m\u001b[43mtorch_dtype\u001b[49m\u001b[38;5;241;43m=\u001b[39;49m\u001b[43mtorch\u001b[49m\u001b[38;5;241;43m.\u001b[39;49m\u001b[43mfloat16\u001b[49m\n\u001b[1;32m     16\u001b[0m \u001b[43m)\u001b[49m\n\u001b[1;32m     18\u001b[0m \u001b[38;5;66;03m# Tokenizer\u001b[39;00m\n\u001b[1;32m     19\u001b[0m tokenizer \u001b[38;5;241m=\u001b[39m AutoTokenizer\u001b[38;5;241m.\u001b[39mfrom_pretrained(model_name, use_fast\u001b[38;5;241m=\u001b[39m\u001b[38;5;28;01mFalse\u001b[39;00m)\n",
      "File \u001b[0;32m/usr/local/lib/python3.10/site-packages/transformers/models/auto/auto_factory.py:571\u001b[0m, in \u001b[0;36m_BaseAutoModelClass.from_pretrained\u001b[0;34m(cls, pretrained_model_name_or_path, *model_args, **kwargs)\u001b[0m\n\u001b[1;32m    569\u001b[0m     \u001b[38;5;28;01mif\u001b[39;00m model_class\u001b[38;5;241m.\u001b[39mconfig_class \u001b[38;5;241m==\u001b[39m config\u001b[38;5;241m.\u001b[39msub_configs\u001b[38;5;241m.\u001b[39mget(\u001b[38;5;124m\"\u001b[39m\u001b[38;5;124mtext_config\u001b[39m\u001b[38;5;124m\"\u001b[39m, \u001b[38;5;28;01mNone\u001b[39;00m):\n\u001b[1;32m    570\u001b[0m         config \u001b[38;5;241m=\u001b[39m config\u001b[38;5;241m.\u001b[39mget_text_config()\n\u001b[0;32m--> 571\u001b[0m     \u001b[38;5;28;01mreturn\u001b[39;00m \u001b[43mmodel_class\u001b[49m\u001b[38;5;241;43m.\u001b[39;49m\u001b[43mfrom_pretrained\u001b[49m\u001b[43m(\u001b[49m\n\u001b[1;32m    572\u001b[0m \u001b[43m        \u001b[49m\u001b[43mpretrained_model_name_or_path\u001b[49m\u001b[43m,\u001b[49m\u001b[43m \u001b[49m\u001b[38;5;241;43m*\u001b[39;49m\u001b[43mmodel_args\u001b[49m\u001b[43m,\u001b[49m\u001b[43m \u001b[49m\u001b[43mconfig\u001b[49m\u001b[38;5;241;43m=\u001b[39;49m\u001b[43mconfig\u001b[49m\u001b[43m,\u001b[49m\u001b[43m \u001b[49m\u001b[38;5;241;43m*\u001b[39;49m\u001b[38;5;241;43m*\u001b[39;49m\u001b[43mhub_kwargs\u001b[49m\u001b[43m,\u001b[49m\u001b[43m \u001b[49m\u001b[38;5;241;43m*\u001b[39;49m\u001b[38;5;241;43m*\u001b[39;49m\u001b[43mkwargs\u001b[49m\n\u001b[1;32m    573\u001b[0m \u001b[43m    \u001b[49m\u001b[43m)\u001b[49m\n\u001b[1;32m    574\u001b[0m \u001b[38;5;28;01mraise\u001b[39;00m \u001b[38;5;167;01mValueError\u001b[39;00m(\n\u001b[1;32m    575\u001b[0m     \u001b[38;5;124mf\u001b[39m\u001b[38;5;124m\"\u001b[39m\u001b[38;5;124mUnrecognized configuration class \u001b[39m\u001b[38;5;132;01m{\u001b[39;00mconfig\u001b[38;5;241m.\u001b[39m\u001b[38;5;18m__class__\u001b[39m\u001b[38;5;132;01m}\u001b[39;00m\u001b[38;5;124m for this kind of AutoModel: \u001b[39m\u001b[38;5;132;01m{\u001b[39;00m\u001b[38;5;28mcls\u001b[39m\u001b[38;5;241m.\u001b[39m\u001b[38;5;18m__name__\u001b[39m\u001b[38;5;132;01m}\u001b[39;00m\u001b[38;5;124m.\u001b[39m\u001b[38;5;130;01m\\n\u001b[39;00m\u001b[38;5;124m\"\u001b[39m\n\u001b[1;32m    576\u001b[0m     \u001b[38;5;124mf\u001b[39m\u001b[38;5;124m\"\u001b[39m\u001b[38;5;124mModel type should be one of \u001b[39m\u001b[38;5;132;01m{\u001b[39;00m\u001b[38;5;124m'\u001b[39m\u001b[38;5;124m, \u001b[39m\u001b[38;5;124m'\u001b[39m\u001b[38;5;241m.\u001b[39mjoin(c\u001b[38;5;241m.\u001b[39m\u001b[38;5;18m__name__\u001b[39m\u001b[38;5;250m \u001b[39m\u001b[38;5;28;01mfor\u001b[39;00m\u001b[38;5;250m \u001b[39mc\u001b[38;5;250m \u001b[39m\u001b[38;5;129;01min\u001b[39;00m\u001b[38;5;250m \u001b[39m\u001b[38;5;28mcls\u001b[39m\u001b[38;5;241m.\u001b[39m_model_mapping\u001b[38;5;241m.\u001b[39mkeys())\u001b[38;5;132;01m}\u001b[39;00m\u001b[38;5;124m.\u001b[39m\u001b[38;5;124m\"\u001b[39m\n\u001b[1;32m    577\u001b[0m )\n",
      "File \u001b[0;32m/usr/local/lib/python3.10/site-packages/transformers/modeling_utils.py:279\u001b[0m, in \u001b[0;36mrestore_default_torch_dtype.<locals>._wrapper\u001b[0;34m(*args, **kwargs)\u001b[0m\n\u001b[1;32m    277\u001b[0m old_dtype \u001b[38;5;241m=\u001b[39m torch\u001b[38;5;241m.\u001b[39mget_default_dtype()\n\u001b[1;32m    278\u001b[0m \u001b[38;5;28;01mtry\u001b[39;00m:\n\u001b[0;32m--> 279\u001b[0m     \u001b[38;5;28;01mreturn\u001b[39;00m \u001b[43mfunc\u001b[49m\u001b[43m(\u001b[49m\u001b[38;5;241;43m*\u001b[39;49m\u001b[43margs\u001b[49m\u001b[43m,\u001b[49m\u001b[43m \u001b[49m\u001b[38;5;241;43m*\u001b[39;49m\u001b[38;5;241;43m*\u001b[39;49m\u001b[43mkwargs\u001b[49m\u001b[43m)\u001b[49m\n\u001b[1;32m    280\u001b[0m \u001b[38;5;28;01mfinally\u001b[39;00m:\n\u001b[1;32m    281\u001b[0m     torch\u001b[38;5;241m.\u001b[39mset_default_dtype(old_dtype)\n",
      "File \u001b[0;32m/usr/local/lib/python3.10/site-packages/transformers/modeling_utils.py:4228\u001b[0m, in \u001b[0;36mPreTrainedModel.from_pretrained\u001b[0;34m(cls, pretrained_model_name_or_path, config, cache_dir, ignore_mismatched_sizes, force_download, local_files_only, token, revision, use_safetensors, weights_only, *model_args, **kwargs)\u001b[0m\n\u001b[1;32m   4225\u001b[0m     hf_quantizer \u001b[38;5;241m=\u001b[39m \u001b[38;5;28;01mNone\u001b[39;00m\n\u001b[1;32m   4227\u001b[0m \u001b[38;5;28;01mif\u001b[39;00m hf_quantizer \u001b[38;5;129;01mis\u001b[39;00m \u001b[38;5;129;01mnot\u001b[39;00m \u001b[38;5;28;01mNone\u001b[39;00m:\n\u001b[0;32m-> 4228\u001b[0m     \u001b[43mhf_quantizer\u001b[49m\u001b[38;5;241;43m.\u001b[39;49m\u001b[43mvalidate_environment\u001b[49m\u001b[43m(\u001b[49m\n\u001b[1;32m   4229\u001b[0m \u001b[43m        \u001b[49m\u001b[43mtorch_dtype\u001b[49m\u001b[38;5;241;43m=\u001b[39;49m\u001b[43mtorch_dtype\u001b[49m\u001b[43m,\u001b[49m\n\u001b[1;32m   4230\u001b[0m \u001b[43m        \u001b[49m\u001b[43mfrom_tf\u001b[49m\u001b[38;5;241;43m=\u001b[39;49m\u001b[43mfrom_tf\u001b[49m\u001b[43m,\u001b[49m\n\u001b[1;32m   4231\u001b[0m \u001b[43m        \u001b[49m\u001b[43mfrom_flax\u001b[49m\u001b[38;5;241;43m=\u001b[39;49m\u001b[43mfrom_flax\u001b[49m\u001b[43m,\u001b[49m\n\u001b[1;32m   4232\u001b[0m \u001b[43m        \u001b[49m\u001b[43mdevice_map\u001b[49m\u001b[38;5;241;43m=\u001b[39;49m\u001b[43mdevice_map\u001b[49m\u001b[43m,\u001b[49m\n\u001b[1;32m   4233\u001b[0m \u001b[43m        \u001b[49m\u001b[43mweights_only\u001b[49m\u001b[38;5;241;43m=\u001b[39;49m\u001b[43mweights_only\u001b[49m\u001b[43m,\u001b[49m\n\u001b[1;32m   4234\u001b[0m \u001b[43m    \u001b[49m\u001b[43m)\u001b[49m\n\u001b[1;32m   4235\u001b[0m     torch_dtype \u001b[38;5;241m=\u001b[39m hf_quantizer\u001b[38;5;241m.\u001b[39mupdate_torch_dtype(torch_dtype)\n\u001b[1;32m   4236\u001b[0m     device_map \u001b[38;5;241m=\u001b[39m hf_quantizer\u001b[38;5;241m.\u001b[39mupdate_device_map(device_map)\n",
      "File \u001b[0;32m/usr/local/lib/python3.10/site-packages/transformers/quantizers/quantizer_bnb_4bit.py:84\u001b[0m, in \u001b[0;36mBnb4BitHfQuantizer.validate_environment\u001b[0;34m(self, *args, **kwargs)\u001b[0m\n\u001b[1;32m     81\u001b[0m \u001b[38;5;28;01mfrom\u001b[39;00m\u001b[38;5;250m \u001b[39m\u001b[38;5;21;01m.\u001b[39;00m\u001b[38;5;21;01m.\u001b[39;00m\u001b[38;5;21;01mutils\u001b[39;00m\u001b[38;5;250m \u001b[39m\u001b[38;5;28;01mimport\u001b[39;00m is_bitsandbytes_multi_backend_available\n\u001b[1;32m     83\u001b[0m bnb_multibackend_is_enabled \u001b[38;5;241m=\u001b[39m is_bitsandbytes_multi_backend_available()\n\u001b[0;32m---> 84\u001b[0m \u001b[43mvalidate_bnb_backend_availability\u001b[49m\u001b[43m(\u001b[49m\u001b[43mraise_exception\u001b[49m\u001b[38;5;241;43m=\u001b[39;49m\u001b[38;5;28;43;01mTrue\u001b[39;49;00m\u001b[43m)\u001b[49m\n\u001b[1;32m     86\u001b[0m \u001b[38;5;28;01mif\u001b[39;00m kwargs\u001b[38;5;241m.\u001b[39mget(\u001b[38;5;124m\"\u001b[39m\u001b[38;5;124mfrom_tf\u001b[39m\u001b[38;5;124m\"\u001b[39m, \u001b[38;5;28;01mFalse\u001b[39;00m) \u001b[38;5;129;01mor\u001b[39;00m kwargs\u001b[38;5;241m.\u001b[39mget(\u001b[38;5;124m\"\u001b[39m\u001b[38;5;124mfrom_flax\u001b[39m\u001b[38;5;124m\"\u001b[39m, \u001b[38;5;28;01mFalse\u001b[39;00m):\n\u001b[1;32m     87\u001b[0m     \u001b[38;5;28;01mraise\u001b[39;00m \u001b[38;5;167;01mValueError\u001b[39;00m(\n\u001b[1;32m     88\u001b[0m         \u001b[38;5;124m\"\u001b[39m\u001b[38;5;124mConverting into 4-bit or 8-bit weights from tf/flax weights is currently not supported, please make\u001b[39m\u001b[38;5;124m\"\u001b[39m\n\u001b[1;32m     89\u001b[0m         \u001b[38;5;124m\"\u001b[39m\u001b[38;5;124m sure the weights are in PyTorch format.\u001b[39m\u001b[38;5;124m\"\u001b[39m\n\u001b[1;32m     90\u001b[0m     )\n",
      "File \u001b[0;32m/usr/local/lib/python3.10/site-packages/transformers/integrations/bitsandbytes.py:560\u001b[0m, in \u001b[0;36mvalidate_bnb_backend_availability\u001b[0;34m(raise_exception)\u001b[0m\n\u001b[1;32m    557\u001b[0m     \u001b[38;5;28;01mreturn\u001b[39;00m \u001b[38;5;28;01mFalse\u001b[39;00m\n\u001b[1;32m    559\u001b[0m \u001b[38;5;28;01mif\u001b[39;00m is_bitsandbytes_multi_backend_available():\n\u001b[0;32m--> 560\u001b[0m     \u001b[38;5;28;01mreturn\u001b[39;00m \u001b[43m_validate_bnb_multi_backend_availability\u001b[49m\u001b[43m(\u001b[49m\u001b[43mraise_exception\u001b[49m\u001b[43m)\u001b[49m\n\u001b[1;32m    561\u001b[0m \u001b[38;5;28;01mreturn\u001b[39;00m _validate_bnb_cuda_backend_availability(raise_exception)\n",
      "File \u001b[0;32m/usr/local/lib/python3.10/site-packages/transformers/integrations/bitsandbytes.py:517\u001b[0m, in \u001b[0;36m_validate_bnb_multi_backend_availability\u001b[0;34m(raise_exception)\u001b[0m\n\u001b[1;32m    511\u001b[0m     err_msg \u001b[38;5;241m=\u001b[39m (\n\u001b[1;32m    512\u001b[0m         \u001b[38;5;124mf\u001b[39m\u001b[38;5;124m\"\u001b[39m\u001b[38;5;124mNone of the available devices `available_devices = \u001b[39m\u001b[38;5;132;01m{\u001b[39;00mavailable_devices\u001b[38;5;250m \u001b[39m\u001b[38;5;129;01mor\u001b[39;00m\u001b[38;5;250m \u001b[39m\u001b[38;5;28;01mNone\u001b[39;00m\u001b[38;5;132;01m}\u001b[39;00m\u001b[38;5;124m` are supported by the bitsandbytes version you have installed: `bnb_supported_devices = \u001b[39m\u001b[38;5;132;01m{\u001b[39;00mbnb_supported_devices_with_info\u001b[38;5;132;01m}\u001b[39;00m\u001b[38;5;124m`. \u001b[39m\u001b[38;5;124m\"\u001b[39m\n\u001b[1;32m    513\u001b[0m         \u001b[38;5;124m\"\u001b[39m\u001b[38;5;124mPlease check the docs to see if the backend you intend to use is available and how to install it: https://huggingface.co/docs/bitsandbytes/main/en/installation#multi-backend\u001b[39m\u001b[38;5;124m\"\u001b[39m\n\u001b[1;32m    514\u001b[0m     )\n\u001b[1;32m    516\u001b[0m     logger\u001b[38;5;241m.\u001b[39merror(err_msg)\n\u001b[0;32m--> 517\u001b[0m     \u001b[38;5;28;01mraise\u001b[39;00m \u001b[38;5;167;01mRuntimeError\u001b[39;00m(err_msg)\n\u001b[1;32m    519\u001b[0m logger\u001b[38;5;241m.\u001b[39mwarning(\u001b[38;5;124m\"\u001b[39m\u001b[38;5;124mNo supported devices found for bitsandbytes multi-backend.\u001b[39m\u001b[38;5;124m\"\u001b[39m)\n\u001b[1;32m    520\u001b[0m \u001b[38;5;28;01mreturn\u001b[39;00m \u001b[38;5;28;01mFalse\u001b[39;00m\n",
      "\u001b[0;31mRuntimeError\u001b[0m: None of the available devices `available_devices = None` are supported by the bitsandbytes version you have installed: `bnb_supported_devices = {'npu', 'cuda', 'mps', 'hpu', 'xpu', '\"cpu\" (needs an Intel CPU and intel_extension_for_pytorch installed and compatible with the PyTorch version)'}`. Please check the docs to see if the backend you intend to use is available and how to install it: https://huggingface.co/docs/bitsandbytes/main/en/installation#multi-backend"
     ]
    }
   ],
   "source": [
    "# 8. Huấn luyện QLoRA với VietAI/vit5-small\n",
    "from peft import prepare_model_for_kbit_training, LoraConfig, get_peft_model\n",
    "from transformers import AutoModelForSeq2SeqLM, AutoTokenizer, TrainingArguments, Seq2SeqTrainer, DataCollatorForSeq2Seq\n",
    "from datasets import load_dataset\n",
    "import torch\n",
    "\n",
    "# ✅ Dùng mô hình công khai ổn định\n",
    "model_name = \"VietAI/vit5-base\"\n",
    "\n",
    "# Tải model dạng 4-bit QLoRA\n",
    "model = AutoModelForSeq2SeqLM.from_pretrained(\n",
    "    model_name,\n",
    "    device_map=\"auto\",\n",
    "    load_in_4bit=True,\n",
    "    torch_dtype=torch.float16\n",
    ")\n",
    "\n",
    "# Tokenizer\n",
    "tokenizer = AutoTokenizer.from_pretrained(model_name, use_fast=False)\n",
    "\n",
    "# ✅ Chuẩn bị QLoRA\n",
    "model = prepare_model_for_kbit_training(model)\n",
    "\n",
    "lora_config = LoraConfig(\n",
    "    r=8,\n",
    "    lora_alpha=16,\n",
    "    target_modules=[\"q\", \"v\"],\n",
    "    lora_dropout=0.05,\n",
    "    bias=\"none\",\n",
    "    task_type=\"SEQ_2_SEQ_LM\"\n",
    ")\n",
    "model = get_peft_model(model, lora_config)"
   ]
  },
  {
   "cell_type": "code",
   "execution_count": null,
   "id": "e4ecfb01",
   "metadata": {
    "execution": {
     "iopub.execute_input": "2025-05-29T15:41:34.862059Z",
     "iopub.status.busy": "2025-05-29T15:41:34.861424Z",
     "iopub.status.idle": "2025-05-29T15:41:35.822574Z",
     "shell.execute_reply": "2025-05-29T15:41:35.822037Z",
     "shell.execute_reply.started": "2025-05-29T15:41:34.862038Z"
    },
    "papermill": {
     "duration": null,
     "end_time": null,
     "exception": null,
     "start_time": null,
     "status": "pending"
    },
    "tags": []
   },
   "outputs": [],
   "source": [
    "# 9. Load lại tập train/val từ JSON đã lưu\n",
    "train_ds = load_dataset(\"json\", data_files=\"train.json\", split=\"train\")\n",
    "val_ds = load_dataset(\"json\", data_files=\"val.json\", split=\"train\")"
   ]
  },
  {
   "cell_type": "code",
   "execution_count": null,
   "id": "ee3cb452",
   "metadata": {
    "execution": {
     "iopub.execute_input": "2025-05-29T15:41:35.823966Z",
     "iopub.status.busy": "2025-05-29T15:41:35.823239Z",
     "iopub.status.idle": "2025-05-29T15:45:27.744837Z",
     "shell.execute_reply": "2025-05-29T15:45:27.744046Z",
     "shell.execute_reply.started": "2025-05-29T15:41:35.823946Z"
    },
    "papermill": {
     "duration": null,
     "end_time": null,
     "exception": null,
     "start_time": null,
     "status": "pending"
    },
    "tags": []
   },
   "outputs": [],
   "source": [
    "# 10. Tiền xử lý (tokenize)\n",
    "def preprocess(batch):\n",
    "    inputs = [i + \"\\n\" + x for i, x in zip(batch[\"instruction\"], batch[\"input\"])]\n",
    "    model_inputs = tokenizer(inputs, max_length=512, truncation=True, padding=\"max_length\")\n",
    "\n",
    "    with tokenizer.as_target_tokenizer():\n",
    "        labels = tokenizer(batch[\"output\"], max_length=128, truncation=True, padding=\"max_length\")\n",
    "\n",
    "    model_inputs[\"labels\"] = labels[\"input_ids\"]\n",
    "    return model_inputs\n",
    "\n",
    "# ✅ Tiến hành token hóa\n",
    "train_tokenized = train_ds.map(preprocess, batched=True)\n",
    "val_tokenized = val_ds.map(preprocess, batched=True)\n"
   ]
  },
  {
   "cell_type": "code",
   "execution_count": null,
   "id": "33cfd6d3",
   "metadata": {
    "execution": {
     "iopub.execute_input": "2025-05-29T15:45:27.745872Z",
     "iopub.status.busy": "2025-05-29T15:45:27.745673Z",
     "iopub.status.idle": "2025-05-29T15:45:27.750217Z",
     "shell.execute_reply": "2025-05-29T15:45:27.749383Z",
     "shell.execute_reply.started": "2025-05-29T15:45:27.745856Z"
    },
    "papermill": {
     "duration": null,
     "end_time": null,
     "exception": null,
     "start_time": null,
     "status": "pending"
    },
    "tags": []
   },
   "outputs": [],
   "source": [
    "import transformers\n",
    "print(transformers.__version__)  # >= 4.25.1 là ổn\n"
   ]
  },
  {
   "cell_type": "code",
   "execution_count": null,
   "id": "2e0fba22",
   "metadata": {
    "execution": {
     "iopub.execute_input": "2025-05-29T15:53:28.528327Z",
     "iopub.status.busy": "2025-05-29T15:53:28.528052Z",
     "iopub.status.idle": "2025-05-29T15:53:28.567854Z",
     "shell.execute_reply": "2025-05-29T15:53:28.567312Z",
     "shell.execute_reply.started": "2025-05-29T15:53:28.528307Z"
    },
    "papermill": {
     "duration": null,
     "end_time": null,
     "exception": null,
     "start_time": null,
     "status": "pending"
    },
    "tags": []
   },
   "outputs": [],
   "source": [
    "# 11. Cấu hình huấn luyện QLoRA\n",
    "\n",
    "from transformers import Seq2SeqTrainingArguments, Seq2SeqTrainer, DataCollatorForSeq2Seq\n",
    "\n",
    "training_args = Seq2SeqTrainingArguments(\n",
    "    output_dir=\"./vit5-vietnews-qlora\",\n",
    "    num_train_epochs=5,                                \n",
    "    evaluation_strategy=\"epoch\",\n",
    "    save_strategy=\"epoch\",\n",
    "    load_best_model_at_end=True,\n",
    "    metric_for_best_model=\"eval_loss\",\n",
    "    save_total_limit=2,\n",
    "    per_device_train_batch_size=4,\n",
    "    per_device_eval_batch_size=4,\n",
    "    gradient_accumulation_steps=4,\n",
    "    learning_rate=5e-5,\n",
    "    fp16=True,\n",
    "    gradient_checkpointing=True,\n",
    "    optim=\"paged_adamw_32bit\",\n",
    "    logging_steps=10,\n",
    "    report_to=\"none\",\n",
    "    label_names=[\"labels\"]\n",
    ")\n",
    "\n",
    "\n",
    "data_collator = DataCollatorForSeq2Seq(tokenizer, model=model)\n",
    "\n",
    "trainer = Seq2SeqTrainer(\n",
    "    model=model,\n",
    "    args=training_args,\n",
    "    train_dataset=train_tokenized,\n",
    "    eval_dataset=val_tokenized,\n",
    "    # tokenizer=tokenizer,\n",
    "    data_collator=data_collator\n",
    ")\n"
   ]
  },
  {
   "cell_type": "code",
   "execution_count": null,
   "id": "fec75b83",
   "metadata": {
    "execution": {
     "iopub.execute_input": "2025-05-29T15:53:33.156346Z",
     "iopub.status.busy": "2025-05-29T15:53:33.155841Z",
     "iopub.status.idle": "2025-05-29T23:38:48.890238Z",
     "shell.execute_reply": "2025-05-29T23:38:48.889412Z",
     "shell.execute_reply.started": "2025-05-29T15:53:33.156321Z"
    },
    "papermill": {
     "duration": null,
     "end_time": null,
     "exception": null,
     "start_time": null,
     "status": "pending"
    },
    "tags": []
   },
   "outputs": [],
   "source": [
    "trainer.train()"
   ]
  },
  {
   "cell_type": "code",
   "execution_count": null,
   "id": "e16a4893",
   "metadata": {
    "execution": {
     "iopub.execute_input": "2025-05-29T23:50:09.331267Z",
     "iopub.status.busy": "2025-05-29T23:50:09.330638Z",
     "iopub.status.idle": "2025-05-29T23:50:10.091406Z",
     "shell.execute_reply": "2025-05-29T23:50:10.090593Z",
     "shell.execute_reply.started": "2025-05-29T23:50:09.331246Z"
    },
    "papermill": {
     "duration": null,
     "end_time": null,
     "exception": null,
     "start_time": null,
     "status": "pending"
    },
    "tags": []
   },
   "outputs": [],
   "source": [
    "!zip -r vit5_qlora_model.zip vit5-vietnews-qlora/checkpoint-13000"
   ]
  },
  {
   "cell_type": "code",
   "execution_count": null,
   "id": "db699564",
   "metadata": {
    "execution": {
     "iopub.execute_input": "2025-05-29T23:43:48.760116Z",
     "iopub.status.busy": "2025-05-29T23:43:48.759836Z",
     "iopub.status.idle": "2025-05-29T23:43:54.552082Z",
     "shell.execute_reply": "2025-05-29T23:43:54.551128Z",
     "shell.execute_reply.started": "2025-05-29T23:43:48.760094Z"
    },
    "papermill": {
     "duration": null,
     "end_time": null,
     "exception": null,
     "start_time": null,
     "status": "pending"
    },
    "tags": []
   },
   "outputs": [],
   "source": [
    "!pip install transformers peft datasets rouge-score --quiet"
   ]
  },
  {
   "cell_type": "code",
   "execution_count": null,
   "id": "8c26cc70",
   "metadata": {
    "execution": {
     "iopub.execute_input": "2025-05-29T23:57:53.673696Z",
     "iopub.status.busy": "2025-05-29T23:57:53.673080Z",
     "iopub.status.idle": "2025-05-29T23:57:56.063295Z",
     "shell.execute_reply": "2025-05-29T23:57:56.062531Z",
     "shell.execute_reply.started": "2025-05-29T23:57:53.673671Z"
    },
    "papermill": {
     "duration": null,
     "end_time": null,
     "exception": null,
     "start_time": null,
     "status": "pending"
    },
    "tags": []
   },
   "outputs": [],
   "source": [
    "# 12. Load model ở checkpoint 13440 với training loss thấp nhất\n",
    "from transformers import AutoTokenizer, AutoModelForSeq2SeqLM\n",
    "from peft import PeftModel\n",
    "import torch\n",
    "\n",
    "# Load base model từ Hugging Face (hoặc từ local nếu đã tải về)\n",
    "base_model = AutoModelForSeq2SeqLM.from_pretrained(\n",
    "    \"VietAI/vit5-base\", \n",
    "    device_map=\"auto\"\n",
    ")\n",
    "\n",
    "# Load adapter đã fine-tune bằng QLoRA\n",
    "model = PeftModel.from_pretrained(\n",
    "    base_model,\n",
    "    \"./vit5-vietnews-qlora/checkpoint-13000\",  \n",
    "    is_trainable=False\n",
    ")\n",
    "\n",
    "# Load tokenizer tương ứng\n",
    "tokenizer = AutoTokenizer.from_pretrained(\n",
    "    \"VietAI/vit5-base\",  \n",
    "    use_fast=False\n",
    ")\n",
    "\n",
    "model.eval()"
   ]
  },
  {
   "cell_type": "code",
   "execution_count": null,
   "id": "e056cad6",
   "metadata": {
    "execution": {
     "iopub.execute_input": "2025-05-30T00:06:01.848098Z",
     "iopub.status.busy": "2025-05-30T00:06:01.847823Z",
     "iopub.status.idle": "2025-05-30T00:06:03.649199Z",
     "shell.execute_reply": "2025-05-30T00:06:03.648399Z",
     "shell.execute_reply.started": "2025-05-30T00:06:01.848078Z"
    },
    "papermill": {
     "duration": null,
     "end_time": null,
     "exception": null,
     "start_time": null,
     "status": "pending"
    },
    "tags": []
   },
   "outputs": [],
   "source": [
    "# text = \"Thủ tướng cho biết Việt Nam sẽ tăng đầu tư cho khoa học công nghệ trong năm tới...\"\n",
    "text = \"Thủ tướng Phạm Minh Chính khẳng định Chính phủ sẽ ưu tiên phát triển hạ tầng giao thông trọng điểm trong năm 2025.\"\n",
    "prompt = \"Tóm tắt bài báo sau bằng tiếng Việt: \" + text\n",
    "\n",
    "inputs = tokenizer(sum_text, return_tensors=\"pt\", truncation=True, max_length=512).to(model.device)\n",
    "output = model.generate(**inputs, max_new_tokens=100)\n",
    "print(tokenizer.decode(output[0], skip_special_tokens=True))\n",
    "\n"
   ]
  },
  {
   "cell_type": "code",
   "execution_count": null,
   "id": "2e060b90",
   "metadata": {
    "execution": {
     "iopub.execute_input": "2025-05-30T00:02:48.777233Z",
     "iopub.status.busy": "2025-05-30T00:02:48.776635Z",
     "iopub.status.idle": "2025-05-30T00:02:48.782003Z",
     "shell.execute_reply": "2025-05-30T00:02:48.781217Z",
     "shell.execute_reply.started": "2025-05-30T00:02:48.777212Z"
    },
    "papermill": {
     "duration": null,
     "end_time": null,
     "exception": null,
     "start_time": null,
     "status": "pending"
    },
    "tags": []
   },
   "outputs": [],
   "source": [
    "def summarize(text: str, max_tokens=128):\n",
    "    instruction = \"Tóm tắt bài báo sau bằng tiếng Việt: \"\n",
    "    input_text = instruction + text\n",
    "    inputs = tokenizer(prompt, return_tensors=\"pt\", truncation=True, max_length=512).to(model.device)\n",
    "\n",
    "\n",
    "    with torch.no_grad():\n",
    "        output = model.generate(\n",
    "            **inputs,\n",
    "            max_new_tokens=100,\n",
    "            do_sample=True,\n",
    "            temperature=0.7,\n",
    "            top_p=0.95,\n",
    "            top_k=50\n",
    "        )\n",
    "\n",
    "    return tokenizer.decode(output[0], skip_special_tokens=True)\n"
   ]
  },
  {
   "cell_type": "code",
   "execution_count": null,
   "id": "65018d20",
   "metadata": {
    "execution": {
     "iopub.execute_input": "2025-05-30T00:03:29.830927Z",
     "iopub.status.busy": "2025-05-30T00:03:29.830379Z",
     "iopub.status.idle": "2025-05-30T00:03:31.173817Z",
     "shell.execute_reply": "2025-05-30T00:03:31.173211Z",
     "shell.execute_reply.started": "2025-05-30T00:03:29.830904Z"
    },
    "papermill": {
     "duration": null,
     "end_time": null,
     "exception": null,
     "start_time": null,
     "status": "pending"
    },
    "tags": []
   },
   "outputs": [],
   "source": [
    "sum_text = \"\"\"\n",
    "Chiều 28/5, tại Hà Nội, Bộ Giáo dục và Đào tạo tổ chức hội thảo lấy ý kiến chuyên gia về đề xuất sửa đổi Luật Giáo dục năm 2005. Trong đó, nhiều chuyên gia cho rằng cần thay đổi cách tính học phí và đảm bảo quyền lợi cho giáo viên, học sinh...\n",
    "\"\"\"\n",
    "\n",
    "\n",
    "print(\"📄 Tóm tắt:\", summarize(sum_text))\n"
   ]
  }
 ],
 "metadata": {
  "kaggle": {
   "accelerator": "tpu1vmV38",
   "dataSources": [],
   "dockerImageVersionId": 31041,
   "isGpuEnabled": false,
   "isInternetEnabled": true,
   "language": "python",
   "sourceType": "notebook"
  },
  "kernelspec": {
   "display_name": "Python 3",
   "language": "python",
   "name": "python3"
  },
  "language_info": {
   "codemirror_mode": {
    "name": "ipython",
    "version": 3
   },
   "file_extension": ".py",
   "mimetype": "text/x-python",
   "name": "python",
   "nbconvert_exporter": "python",
   "pygments_lexer": "ipython3",
   "version": "3.10.17"
  },
  "papermill": {
   "default_parameters": {},
   "duration": 116.030765,
   "end_time": "2025-05-30T00:51:59.508706",
   "environment_variables": {},
   "exception": true,
   "input_path": "__notebook__.ipynb",
   "output_path": "__notebook__.ipynb",
   "parameters": {},
   "start_time": "2025-05-30T00:50:03.477941",
   "version": "2.6.0"
  }
 },
 "nbformat": 4,
 "nbformat_minor": 5
}
