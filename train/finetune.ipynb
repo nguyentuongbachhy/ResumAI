{
 "cells": [
  {
   "cell_type": "code",
   "execution_count": 1,
   "metadata": {},
   "outputs": [
    {
     "name": "stdout",
     "output_type": "stream",
     "text": [
      "Looking in indexes: https://download.pytorch.org/whl/cu118\n",
      "Requirement already satisfied: torch in /system/conda/miniconda3/envs/cloudspace/lib/python3.10/site-packages (2.7.0+cu128)\n",
      "Requirement already satisfied: torchvision in /system/conda/miniconda3/envs/cloudspace/lib/python3.10/site-packages (0.22.0+cu128)\n",
      "Requirement already satisfied: torchaudio in /system/conda/miniconda3/envs/cloudspace/lib/python3.10/site-packages (2.7.0+cu118)\n",
      "Requirement already satisfied: filelock in /system/conda/miniconda3/envs/cloudspace/lib/python3.10/site-packages (from torch) (3.18.0)\n",
      "Requirement already satisfied: typing-extensions>=4.10.0 in /system/conda/miniconda3/envs/cloudspace/lib/python3.10/site-packages (from torch) (4.14.0)\n",
      "Requirement already satisfied: sympy>=1.13.3 in /system/conda/miniconda3/envs/cloudspace/lib/python3.10/site-packages (from torch) (1.14.0)\n",
      "Requirement already satisfied: networkx in /system/conda/miniconda3/envs/cloudspace/lib/python3.10/site-packages (from torch) (3.4.2)\n",
      "Requirement already satisfied: jinja2 in /system/conda/miniconda3/envs/cloudspace/lib/python3.10/site-packages (from torch) (3.1.6)\n",
      "Requirement already satisfied: fsspec in /system/conda/miniconda3/envs/cloudspace/lib/python3.10/site-packages (from torch) (2025.3.0)\n",
      "Requirement already satisfied: nvidia-cuda-nvrtc-cu12==12.8.61 in /system/conda/miniconda3/envs/cloudspace/lib/python3.10/site-packages (from torch) (12.8.61)\n",
      "Requirement already satisfied: nvidia-cuda-runtime-cu12==12.8.57 in /system/conda/miniconda3/envs/cloudspace/lib/python3.10/site-packages (from torch) (12.8.57)\n",
      "Requirement already satisfied: nvidia-cuda-cupti-cu12==12.8.57 in /system/conda/miniconda3/envs/cloudspace/lib/python3.10/site-packages (from torch) (12.8.57)\n",
      "Requirement already satisfied: nvidia-cudnn-cu12==9.7.1.26 in /system/conda/miniconda3/envs/cloudspace/lib/python3.10/site-packages (from torch) (9.7.1.26)\n",
      "Requirement already satisfied: nvidia-cublas-cu12==12.8.3.14 in /system/conda/miniconda3/envs/cloudspace/lib/python3.10/site-packages (from torch) (12.8.3.14)\n",
      "Requirement already satisfied: nvidia-cufft-cu12==11.3.3.41 in /system/conda/miniconda3/envs/cloudspace/lib/python3.10/site-packages (from torch) (11.3.3.41)\n",
      "Requirement already satisfied: nvidia-curand-cu12==10.3.9.55 in /system/conda/miniconda3/envs/cloudspace/lib/python3.10/site-packages (from torch) (10.3.9.55)\n",
      "Requirement already satisfied: nvidia-cusolver-cu12==11.7.2.55 in /system/conda/miniconda3/envs/cloudspace/lib/python3.10/site-packages (from torch) (11.7.2.55)\n",
      "Requirement already satisfied: nvidia-cusparse-cu12==12.5.7.53 in /system/conda/miniconda3/envs/cloudspace/lib/python3.10/site-packages (from torch) (12.5.7.53)\n",
      "Requirement already satisfied: nvidia-cusparselt-cu12==0.6.3 in /system/conda/miniconda3/envs/cloudspace/lib/python3.10/site-packages (from torch) (0.6.3)\n",
      "Requirement already satisfied: nvidia-nccl-cu12==2.26.2 in /system/conda/miniconda3/envs/cloudspace/lib/python3.10/site-packages (from torch) (2.26.2)\n",
      "Requirement already satisfied: nvidia-nvtx-cu12==12.8.55 in /system/conda/miniconda3/envs/cloudspace/lib/python3.10/site-packages (from torch) (12.8.55)\n",
      "Requirement already satisfied: nvidia-nvjitlink-cu12==12.8.61 in /system/conda/miniconda3/envs/cloudspace/lib/python3.10/site-packages (from torch) (12.8.61)\n",
      "Requirement already satisfied: nvidia-cufile-cu12==1.13.0.11 in /system/conda/miniconda3/envs/cloudspace/lib/python3.10/site-packages (from torch) (1.13.0.11)\n",
      "Requirement already satisfied: triton==3.3.0 in /system/conda/miniconda3/envs/cloudspace/lib/python3.10/site-packages (from torch) (3.3.0)\n",
      "Requirement already satisfied: setuptools>=40.8.0 in /system/conda/miniconda3/envs/cloudspace/lib/python3.10/site-packages (from triton==3.3.0->torch) (78.1.1)\n",
      "Requirement already satisfied: numpy in /system/conda/miniconda3/envs/cloudspace/lib/python3.10/site-packages (from torchvision) (1.26.4)\n",
      "Requirement already satisfied: pillow!=8.3.*,>=5.3.0 in /system/conda/miniconda3/envs/cloudspace/lib/python3.10/site-packages (from torchvision) (11.2.1)\n",
      "Requirement already satisfied: mpmath<1.4,>=1.1.0 in /system/conda/miniconda3/envs/cloudspace/lib/python3.10/site-packages (from sympy>=1.13.3->torch) (1.3.0)\n",
      "Requirement already satisfied: MarkupSafe>=2.0 in /system/conda/miniconda3/envs/cloudspace/lib/python3.10/site-packages (from jinja2->torch) (3.0.2)\n",
      "Requirement already satisfied: transformers in /system/conda/miniconda3/envs/cloudspace/lib/python3.10/site-packages (4.53.1)\n",
      "Requirement already satisfied: accelerate in /system/conda/miniconda3/envs/cloudspace/lib/python3.10/site-packages (1.8.1)\n",
      "Requirement already satisfied: peft in /system/conda/miniconda3/envs/cloudspace/lib/python3.10/site-packages (0.16.0)\n",
      "Requirement already satisfied: datasets in /system/conda/miniconda3/envs/cloudspace/lib/python3.10/site-packages (4.0.0)\n",
      "Requirement already satisfied: bitsandbytes in /system/conda/miniconda3/envs/cloudspace/lib/python3.10/site-packages (0.46.1)\n",
      "Requirement already satisfied: trl in /system/conda/miniconda3/envs/cloudspace/lib/python3.10/site-packages (0.19.1)\n",
      "Requirement already satisfied: filelock in /system/conda/miniconda3/envs/cloudspace/lib/python3.10/site-packages (from transformers) (3.18.0)\n",
      "Requirement already satisfied: huggingface-hub<1.0,>=0.30.0 in /system/conda/miniconda3/envs/cloudspace/lib/python3.10/site-packages (from transformers) (0.33.2)\n",
      "Requirement already satisfied: numpy>=1.17 in /system/conda/miniconda3/envs/cloudspace/lib/python3.10/site-packages (from transformers) (1.26.4)\n",
      "Requirement already satisfied: packaging>=20.0 in /system/conda/miniconda3/envs/cloudspace/lib/python3.10/site-packages (from transformers) (25.0)\n",
      "Requirement already satisfied: pyyaml>=5.1 in /system/conda/miniconda3/envs/cloudspace/lib/python3.10/site-packages (from transformers) (6.0.2)\n",
      "Requirement already satisfied: regex!=2019.12.17 in /system/conda/miniconda3/envs/cloudspace/lib/python3.10/site-packages (from transformers) (2024.11.6)\n",
      "Requirement already satisfied: requests in /system/conda/miniconda3/envs/cloudspace/lib/python3.10/site-packages (from transformers) (2.32.4)\n",
      "Requirement already satisfied: tokenizers<0.22,>=0.21 in /system/conda/miniconda3/envs/cloudspace/lib/python3.10/site-packages (from transformers) (0.21.2)\n",
      "Requirement already satisfied: safetensors>=0.4.3 in /system/conda/miniconda3/envs/cloudspace/lib/python3.10/site-packages (from transformers) (0.5.3)\n",
      "Requirement already satisfied: tqdm>=4.27 in /system/conda/miniconda3/envs/cloudspace/lib/python3.10/site-packages (from transformers) (4.67.1)\n",
      "Requirement already satisfied: fsspec>=2023.5.0 in /system/conda/miniconda3/envs/cloudspace/lib/python3.10/site-packages (from huggingface-hub<1.0,>=0.30.0->transformers) (2025.3.0)\n",
      "Requirement already satisfied: typing-extensions>=3.7.4.3 in /system/conda/miniconda3/envs/cloudspace/lib/python3.10/site-packages (from huggingface-hub<1.0,>=0.30.0->transformers) (4.14.0)\n",
      "Requirement already satisfied: hf-xet<2.0.0,>=1.1.2 in /system/conda/miniconda3/envs/cloudspace/lib/python3.10/site-packages (from huggingface-hub<1.0,>=0.30.0->transformers) (1.1.5)\n",
      "Requirement already satisfied: psutil in /system/conda/miniconda3/envs/cloudspace/lib/python3.10/site-packages (from accelerate) (7.0.0)\n",
      "Requirement already satisfied: torch>=2.0.0 in /system/conda/miniconda3/envs/cloudspace/lib/python3.10/site-packages (from accelerate) (2.7.0+cu128)\n",
      "Requirement already satisfied: pyarrow>=15.0.0 in /system/conda/miniconda3/envs/cloudspace/lib/python3.10/site-packages (from datasets) (20.0.0)\n",
      "Requirement already satisfied: dill<0.3.9,>=0.3.0 in /system/conda/miniconda3/envs/cloudspace/lib/python3.10/site-packages (from datasets) (0.3.8)\n",
      "Requirement already satisfied: pandas in /system/conda/miniconda3/envs/cloudspace/lib/python3.10/site-packages (from datasets) (2.1.4)\n",
      "Requirement already satisfied: xxhash in /system/conda/miniconda3/envs/cloudspace/lib/python3.10/site-packages (from datasets) (3.5.0)\n",
      "Requirement already satisfied: multiprocess<0.70.17 in /system/conda/miniconda3/envs/cloudspace/lib/python3.10/site-packages (from datasets) (0.70.16)\n",
      "Requirement already satisfied: aiohttp!=4.0.0a0,!=4.0.0a1 in /system/conda/miniconda3/envs/cloudspace/lib/python3.10/site-packages (from fsspec[http]<=2025.3.0,>=2023.1.0->datasets) (3.12.13)\n",
      "Requirement already satisfied: sympy>=1.13.3 in /system/conda/miniconda3/envs/cloudspace/lib/python3.10/site-packages (from torch>=2.0.0->accelerate) (1.14.0)\n",
      "Requirement already satisfied: networkx in /system/conda/miniconda3/envs/cloudspace/lib/python3.10/site-packages (from torch>=2.0.0->accelerate) (3.4.2)\n",
      "Requirement already satisfied: jinja2 in /system/conda/miniconda3/envs/cloudspace/lib/python3.10/site-packages (from torch>=2.0.0->accelerate) (3.1.6)\n",
      "Requirement already satisfied: nvidia-cuda-nvrtc-cu12==12.8.61 in /system/conda/miniconda3/envs/cloudspace/lib/python3.10/site-packages (from torch>=2.0.0->accelerate) (12.8.61)\n",
      "Requirement already satisfied: nvidia-cuda-runtime-cu12==12.8.57 in /system/conda/miniconda3/envs/cloudspace/lib/python3.10/site-packages (from torch>=2.0.0->accelerate) (12.8.57)\n",
      "Requirement already satisfied: nvidia-cuda-cupti-cu12==12.8.57 in /system/conda/miniconda3/envs/cloudspace/lib/python3.10/site-packages (from torch>=2.0.0->accelerate) (12.8.57)\n",
      "Requirement already satisfied: nvidia-cudnn-cu12==9.7.1.26 in /system/conda/miniconda3/envs/cloudspace/lib/python3.10/site-packages (from torch>=2.0.0->accelerate) (9.7.1.26)\n",
      "Requirement already satisfied: nvidia-cublas-cu12==12.8.3.14 in /system/conda/miniconda3/envs/cloudspace/lib/python3.10/site-packages (from torch>=2.0.0->accelerate) (12.8.3.14)\n",
      "Requirement already satisfied: nvidia-cufft-cu12==11.3.3.41 in /system/conda/miniconda3/envs/cloudspace/lib/python3.10/site-packages (from torch>=2.0.0->accelerate) (11.3.3.41)\n",
      "Requirement already satisfied: nvidia-curand-cu12==10.3.9.55 in /system/conda/miniconda3/envs/cloudspace/lib/python3.10/site-packages (from torch>=2.0.0->accelerate) (10.3.9.55)\n",
      "Requirement already satisfied: nvidia-cusolver-cu12==11.7.2.55 in /system/conda/miniconda3/envs/cloudspace/lib/python3.10/site-packages (from torch>=2.0.0->accelerate) (11.7.2.55)\n",
      "Requirement already satisfied: nvidia-cusparse-cu12==12.5.7.53 in /system/conda/miniconda3/envs/cloudspace/lib/python3.10/site-packages (from torch>=2.0.0->accelerate) (12.5.7.53)\n",
      "Requirement already satisfied: nvidia-cusparselt-cu12==0.6.3 in /system/conda/miniconda3/envs/cloudspace/lib/python3.10/site-packages (from torch>=2.0.0->accelerate) (0.6.3)\n",
      "Requirement already satisfied: nvidia-nccl-cu12==2.26.2 in /system/conda/miniconda3/envs/cloudspace/lib/python3.10/site-packages (from torch>=2.0.0->accelerate) (2.26.2)\n",
      "Requirement already satisfied: nvidia-nvtx-cu12==12.8.55 in /system/conda/miniconda3/envs/cloudspace/lib/python3.10/site-packages (from torch>=2.0.0->accelerate) (12.8.55)\n",
      "Requirement already satisfied: nvidia-nvjitlink-cu12==12.8.61 in /system/conda/miniconda3/envs/cloudspace/lib/python3.10/site-packages (from torch>=2.0.0->accelerate) (12.8.61)\n",
      "Requirement already satisfied: nvidia-cufile-cu12==1.13.0.11 in /system/conda/miniconda3/envs/cloudspace/lib/python3.10/site-packages (from torch>=2.0.0->accelerate) (1.13.0.11)\n",
      "Requirement already satisfied: triton==3.3.0 in /system/conda/miniconda3/envs/cloudspace/lib/python3.10/site-packages (from torch>=2.0.0->accelerate) (3.3.0)\n",
      "Requirement already satisfied: setuptools>=40.8.0 in /system/conda/miniconda3/envs/cloudspace/lib/python3.10/site-packages (from triton==3.3.0->torch>=2.0.0->accelerate) (78.1.1)\n",
      "Requirement already satisfied: aiohappyeyeballs>=2.5.0 in /system/conda/miniconda3/envs/cloudspace/lib/python3.10/site-packages (from aiohttp!=4.0.0a0,!=4.0.0a1->fsspec[http]<=2025.3.0,>=2023.1.0->datasets) (2.6.1)\n",
      "Requirement already satisfied: aiosignal>=1.1.2 in /system/conda/miniconda3/envs/cloudspace/lib/python3.10/site-packages (from aiohttp!=4.0.0a0,!=4.0.0a1->fsspec[http]<=2025.3.0,>=2023.1.0->datasets) (1.3.2)\n",
      "Requirement already satisfied: async-timeout<6.0,>=4.0 in /system/conda/miniconda3/envs/cloudspace/lib/python3.10/site-packages (from aiohttp!=4.0.0a0,!=4.0.0a1->fsspec[http]<=2025.3.0,>=2023.1.0->datasets) (5.0.1)\n",
      "Requirement already satisfied: attrs>=17.3.0 in /system/conda/miniconda3/envs/cloudspace/lib/python3.10/site-packages (from aiohttp!=4.0.0a0,!=4.0.0a1->fsspec[http]<=2025.3.0,>=2023.1.0->datasets) (25.3.0)\n",
      "Requirement already satisfied: frozenlist>=1.1.1 in /system/conda/miniconda3/envs/cloudspace/lib/python3.10/site-packages (from aiohttp!=4.0.0a0,!=4.0.0a1->fsspec[http]<=2025.3.0,>=2023.1.0->datasets) (1.7.0)\n",
      "Requirement already satisfied: multidict<7.0,>=4.5 in /system/conda/miniconda3/envs/cloudspace/lib/python3.10/site-packages (from aiohttp!=4.0.0a0,!=4.0.0a1->fsspec[http]<=2025.3.0,>=2023.1.0->datasets) (6.5.0)\n",
      "Requirement already satisfied: propcache>=0.2.0 in /system/conda/miniconda3/envs/cloudspace/lib/python3.10/site-packages (from aiohttp!=4.0.0a0,!=4.0.0a1->fsspec[http]<=2025.3.0,>=2023.1.0->datasets) (0.3.2)\n",
      "Requirement already satisfied: yarl<2.0,>=1.17.0 in /system/conda/miniconda3/envs/cloudspace/lib/python3.10/site-packages (from aiohttp!=4.0.0a0,!=4.0.0a1->fsspec[http]<=2025.3.0,>=2023.1.0->datasets) (1.20.1)\n",
      "Requirement already satisfied: idna>=2.0 in /system/conda/miniconda3/envs/cloudspace/lib/python3.10/site-packages (from yarl<2.0,>=1.17.0->aiohttp!=4.0.0a0,!=4.0.0a1->fsspec[http]<=2025.3.0,>=2023.1.0->datasets) (3.10)\n",
      "Requirement already satisfied: charset_normalizer<4,>=2 in /system/conda/miniconda3/envs/cloudspace/lib/python3.10/site-packages (from requests->transformers) (3.4.2)\n",
      "Requirement already satisfied: urllib3<3,>=1.21.1 in /system/conda/miniconda3/envs/cloudspace/lib/python3.10/site-packages (from requests->transformers) (2.5.0)\n",
      "Requirement already satisfied: certifi>=2017.4.17 in /system/conda/miniconda3/envs/cloudspace/lib/python3.10/site-packages (from requests->transformers) (2025.6.15)\n",
      "Requirement already satisfied: mpmath<1.4,>=1.1.0 in /system/conda/miniconda3/envs/cloudspace/lib/python3.10/site-packages (from sympy>=1.13.3->torch>=2.0.0->accelerate) (1.3.0)\n",
      "Requirement already satisfied: MarkupSafe>=2.0 in /system/conda/miniconda3/envs/cloudspace/lib/python3.10/site-packages (from jinja2->torch>=2.0.0->accelerate) (3.0.2)\n",
      "Requirement already satisfied: python-dateutil>=2.8.2 in /system/conda/miniconda3/envs/cloudspace/lib/python3.10/site-packages (from pandas->datasets) (2.9.0.post0)\n",
      "Requirement already satisfied: pytz>=2020.1 in /system/conda/miniconda3/envs/cloudspace/lib/python3.10/site-packages (from pandas->datasets) (2025.2)\n",
      "Requirement already satisfied: tzdata>=2022.1 in /system/conda/miniconda3/envs/cloudspace/lib/python3.10/site-packages (from pandas->datasets) (2025.2)\n",
      "Requirement already satisfied: six>=1.5 in /system/conda/miniconda3/envs/cloudspace/lib/python3.10/site-packages (from python-dateutil>=2.8.2->pandas->datasets) (1.17.0)\n",
      "Requirement already satisfied: wandb in /system/conda/miniconda3/envs/cloudspace/lib/python3.10/site-packages (0.21.0)\n",
      "Requirement already satisfied: tensorboard in /system/conda/miniconda3/envs/cloudspace/lib/python3.10/site-packages (2.15.1)\n",
      "Requirement already satisfied: evaluate in /system/conda/miniconda3/envs/cloudspace/lib/python3.10/site-packages (0.4.4)\n",
      "Requirement already satisfied: rouge_score in /system/conda/miniconda3/envs/cloudspace/lib/python3.10/site-packages (0.1.2)\n",
      "Requirement already satisfied: sacrebleu in /system/conda/miniconda3/envs/cloudspace/lib/python3.10/site-packages (2.5.1)\n",
      "Requirement already satisfied: click!=8.0.0,>=7.1 in /system/conda/miniconda3/envs/cloudspace/lib/python3.10/site-packages (from wandb) (8.2.1)\n",
      "Requirement already satisfied: gitpython!=3.1.29,>=1.0.0 in /system/conda/miniconda3/envs/cloudspace/lib/python3.10/site-packages (from wandb) (3.1.44)\n",
      "Requirement already satisfied: packaging in /system/conda/miniconda3/envs/cloudspace/lib/python3.10/site-packages (from wandb) (25.0)\n",
      "Requirement already satisfied: platformdirs in /system/conda/miniconda3/envs/cloudspace/lib/python3.10/site-packages (from wandb) (4.3.8)\n",
      "Requirement already satisfied: protobuf!=4.21.0,!=5.28.0,<7,>=3.19.0 in /system/conda/miniconda3/envs/cloudspace/lib/python3.10/site-packages (from wandb) (4.23.4)\n",
      "Requirement already satisfied: pydantic<3 in /system/conda/miniconda3/envs/cloudspace/lib/python3.10/site-packages (from wandb) (2.11.7)\n",
      "Requirement already satisfied: pyyaml in /system/conda/miniconda3/envs/cloudspace/lib/python3.10/site-packages (from wandb) (6.0.2)\n",
      "Requirement already satisfied: requests<3,>=2.0.0 in /system/conda/miniconda3/envs/cloudspace/lib/python3.10/site-packages (from wandb) (2.32.4)\n",
      "Requirement already satisfied: sentry-sdk>=2.0.0 in /system/conda/miniconda3/envs/cloudspace/lib/python3.10/site-packages (from wandb) (2.32.0)\n",
      "Requirement already satisfied: typing-extensions<5,>=4.8 in /system/conda/miniconda3/envs/cloudspace/lib/python3.10/site-packages (from wandb) (4.14.0)\n",
      "Requirement already satisfied: annotated-types>=0.6.0 in /system/conda/miniconda3/envs/cloudspace/lib/python3.10/site-packages (from pydantic<3->wandb) (0.7.0)\n",
      "Requirement already satisfied: pydantic-core==2.33.2 in /system/conda/miniconda3/envs/cloudspace/lib/python3.10/site-packages (from pydantic<3->wandb) (2.33.2)\n",
      "Requirement already satisfied: typing-inspection>=0.4.0 in /system/conda/miniconda3/envs/cloudspace/lib/python3.10/site-packages (from pydantic<3->wandb) (0.4.1)\n",
      "Requirement already satisfied: charset_normalizer<4,>=2 in /system/conda/miniconda3/envs/cloudspace/lib/python3.10/site-packages (from requests<3,>=2.0.0->wandb) (3.4.2)\n",
      "Requirement already satisfied: idna<4,>=2.5 in /system/conda/miniconda3/envs/cloudspace/lib/python3.10/site-packages (from requests<3,>=2.0.0->wandb) (3.10)\n",
      "Requirement already satisfied: urllib3<3,>=1.21.1 in /system/conda/miniconda3/envs/cloudspace/lib/python3.10/site-packages (from requests<3,>=2.0.0->wandb) (2.5.0)\n",
      "Requirement already satisfied: certifi>=2017.4.17 in /system/conda/miniconda3/envs/cloudspace/lib/python3.10/site-packages (from requests<3,>=2.0.0->wandb) (2025.6.15)\n",
      "Requirement already satisfied: absl-py>=0.4 in /system/conda/miniconda3/envs/cloudspace/lib/python3.10/site-packages (from tensorboard) (2.3.0)\n",
      "Requirement already satisfied: grpcio>=1.48.2 in /system/conda/miniconda3/envs/cloudspace/lib/python3.10/site-packages (from tensorboard) (1.73.0)\n",
      "Requirement already satisfied: google-auth<3,>=1.6.3 in /system/conda/miniconda3/envs/cloudspace/lib/python3.10/site-packages (from tensorboard) (2.40.3)\n",
      "Requirement already satisfied: google-auth-oauthlib<2,>=0.5 in /system/conda/miniconda3/envs/cloudspace/lib/python3.10/site-packages (from tensorboard) (1.2.2)\n",
      "Requirement already satisfied: markdown>=2.6.8 in /system/conda/miniconda3/envs/cloudspace/lib/python3.10/site-packages (from tensorboard) (3.8.2)\n",
      "Requirement already satisfied: numpy>=1.12.0 in /system/conda/miniconda3/envs/cloudspace/lib/python3.10/site-packages (from tensorboard) (1.26.4)\n",
      "Requirement already satisfied: setuptools>=41.0.0 in /system/conda/miniconda3/envs/cloudspace/lib/python3.10/site-packages (from tensorboard) (78.1.1)\n",
      "Requirement already satisfied: six>1.9 in /system/conda/miniconda3/envs/cloudspace/lib/python3.10/site-packages (from tensorboard) (1.17.0)\n",
      "Requirement already satisfied: tensorboard-data-server<0.8.0,>=0.7.0 in /system/conda/miniconda3/envs/cloudspace/lib/python3.10/site-packages (from tensorboard) (0.7.2)\n",
      "Requirement already satisfied: werkzeug>=1.0.1 in /system/conda/miniconda3/envs/cloudspace/lib/python3.10/site-packages (from tensorboard) (3.1.3)\n",
      "Requirement already satisfied: cachetools<6.0,>=2.0.0 in /system/conda/miniconda3/envs/cloudspace/lib/python3.10/site-packages (from google-auth<3,>=1.6.3->tensorboard) (5.5.2)\n",
      "Requirement already satisfied: pyasn1-modules>=0.2.1 in /system/conda/miniconda3/envs/cloudspace/lib/python3.10/site-packages (from google-auth<3,>=1.6.3->tensorboard) (0.4.2)\n",
      "Requirement already satisfied: rsa<5,>=3.1.4 in /system/conda/miniconda3/envs/cloudspace/lib/python3.10/site-packages (from google-auth<3,>=1.6.3->tensorboard) (4.9.1)\n",
      "Requirement already satisfied: requests-oauthlib>=0.7.0 in /system/conda/miniconda3/envs/cloudspace/lib/python3.10/site-packages (from google-auth-oauthlib<2,>=0.5->tensorboard) (2.0.0)\n",
      "Requirement already satisfied: pyasn1>=0.1.3 in /system/conda/miniconda3/envs/cloudspace/lib/python3.10/site-packages (from rsa<5,>=3.1.4->google-auth<3,>=1.6.3->tensorboard) (0.6.1)\n",
      "Requirement already satisfied: datasets>=2.0.0 in /system/conda/miniconda3/envs/cloudspace/lib/python3.10/site-packages (from evaluate) (4.0.0)\n",
      "Requirement already satisfied: dill in /system/conda/miniconda3/envs/cloudspace/lib/python3.10/site-packages (from evaluate) (0.3.8)\n",
      "Requirement already satisfied: pandas in /system/conda/miniconda3/envs/cloudspace/lib/python3.10/site-packages (from evaluate) (2.1.4)\n",
      "Requirement already satisfied: tqdm>=4.62.1 in /system/conda/miniconda3/envs/cloudspace/lib/python3.10/site-packages (from evaluate) (4.67.1)\n",
      "Requirement already satisfied: xxhash in /system/conda/miniconda3/envs/cloudspace/lib/python3.10/site-packages (from evaluate) (3.5.0)\n",
      "Requirement already satisfied: multiprocess in /system/conda/miniconda3/envs/cloudspace/lib/python3.10/site-packages (from evaluate) (0.70.16)\n",
      "Requirement already satisfied: fsspec>=2021.05.0 in /system/conda/miniconda3/envs/cloudspace/lib/python3.10/site-packages (from fsspec[http]>=2021.05.0->evaluate) (2025.3.0)\n",
      "Requirement already satisfied: huggingface-hub>=0.7.0 in /system/conda/miniconda3/envs/cloudspace/lib/python3.10/site-packages (from evaluate) (0.33.2)\n",
      "Requirement already satisfied: nltk in /system/conda/miniconda3/envs/cloudspace/lib/python3.10/site-packages (from rouge_score) (3.9.1)\n",
      "Requirement already satisfied: portalocker in /system/conda/miniconda3/envs/cloudspace/lib/python3.10/site-packages (from sacrebleu) (3.2.0)\n",
      "Requirement already satisfied: regex in /system/conda/miniconda3/envs/cloudspace/lib/python3.10/site-packages (from sacrebleu) (2024.11.6)\n",
      "Requirement already satisfied: tabulate>=0.8.9 in /system/conda/miniconda3/envs/cloudspace/lib/python3.10/site-packages (from sacrebleu) (0.9.0)\n",
      "Requirement already satisfied: colorama in /system/conda/miniconda3/envs/cloudspace/lib/python3.10/site-packages (from sacrebleu) (0.4.6)\n",
      "Requirement already satisfied: lxml in /system/conda/miniconda3/envs/cloudspace/lib/python3.10/site-packages (from sacrebleu) (6.0.0)\n",
      "Requirement already satisfied: filelock in /system/conda/miniconda3/envs/cloudspace/lib/python3.10/site-packages (from datasets>=2.0.0->evaluate) (3.18.0)\n",
      "Requirement already satisfied: pyarrow>=15.0.0 in /system/conda/miniconda3/envs/cloudspace/lib/python3.10/site-packages (from datasets>=2.0.0->evaluate) (20.0.0)\n",
      "Requirement already satisfied: aiohttp!=4.0.0a0,!=4.0.0a1 in /system/conda/miniconda3/envs/cloudspace/lib/python3.10/site-packages (from fsspec[http]>=2021.05.0->evaluate) (3.12.13)\n",
      "Requirement already satisfied: aiohappyeyeballs>=2.5.0 in /system/conda/miniconda3/envs/cloudspace/lib/python3.10/site-packages (from aiohttp!=4.0.0a0,!=4.0.0a1->fsspec[http]>=2021.05.0->evaluate) (2.6.1)\n",
      "Requirement already satisfied: aiosignal>=1.1.2 in /system/conda/miniconda3/envs/cloudspace/lib/python3.10/site-packages (from aiohttp!=4.0.0a0,!=4.0.0a1->fsspec[http]>=2021.05.0->evaluate) (1.3.2)\n",
      "Requirement already satisfied: async-timeout<6.0,>=4.0 in /system/conda/miniconda3/envs/cloudspace/lib/python3.10/site-packages (from aiohttp!=4.0.0a0,!=4.0.0a1->fsspec[http]>=2021.05.0->evaluate) (5.0.1)\n",
      "Requirement already satisfied: attrs>=17.3.0 in /system/conda/miniconda3/envs/cloudspace/lib/python3.10/site-packages (from aiohttp!=4.0.0a0,!=4.0.0a1->fsspec[http]>=2021.05.0->evaluate) (25.3.0)\n",
      "Requirement already satisfied: frozenlist>=1.1.1 in /system/conda/miniconda3/envs/cloudspace/lib/python3.10/site-packages (from aiohttp!=4.0.0a0,!=4.0.0a1->fsspec[http]>=2021.05.0->evaluate) (1.7.0)\n",
      "Requirement already satisfied: multidict<7.0,>=4.5 in /system/conda/miniconda3/envs/cloudspace/lib/python3.10/site-packages (from aiohttp!=4.0.0a0,!=4.0.0a1->fsspec[http]>=2021.05.0->evaluate) (6.5.0)\n",
      "Requirement already satisfied: propcache>=0.2.0 in /system/conda/miniconda3/envs/cloudspace/lib/python3.10/site-packages (from aiohttp!=4.0.0a0,!=4.0.0a1->fsspec[http]>=2021.05.0->evaluate) (0.3.2)\n",
      "Requirement already satisfied: yarl<2.0,>=1.17.0 in /system/conda/miniconda3/envs/cloudspace/lib/python3.10/site-packages (from aiohttp!=4.0.0a0,!=4.0.0a1->fsspec[http]>=2021.05.0->evaluate) (1.20.1)\n",
      "Requirement already satisfied: gitdb<5,>=4.0.1 in /system/conda/miniconda3/envs/cloudspace/lib/python3.10/site-packages (from gitpython!=3.1.29,>=1.0.0->wandb) (4.0.12)\n",
      "Requirement already satisfied: smmap<6,>=3.0.1 in /system/conda/miniconda3/envs/cloudspace/lib/python3.10/site-packages (from gitdb<5,>=4.0.1->gitpython!=3.1.29,>=1.0.0->wandb) (5.0.2)\n",
      "Requirement already satisfied: hf-xet<2.0.0,>=1.1.2 in /system/conda/miniconda3/envs/cloudspace/lib/python3.10/site-packages (from huggingface-hub>=0.7.0->evaluate) (1.1.5)\n",
      "Requirement already satisfied: oauthlib>=3.0.0 in /system/conda/miniconda3/envs/cloudspace/lib/python3.10/site-packages (from requests-oauthlib>=0.7.0->google-auth-oauthlib<2,>=0.5->tensorboard) (3.3.1)\n",
      "Requirement already satisfied: MarkupSafe>=2.1.1 in /system/conda/miniconda3/envs/cloudspace/lib/python3.10/site-packages (from werkzeug>=1.0.1->tensorboard) (3.0.2)\n",
      "Requirement already satisfied: joblib in /system/conda/miniconda3/envs/cloudspace/lib/python3.10/site-packages (from nltk->rouge_score) (1.5.1)\n",
      "Requirement already satisfied: python-dateutil>=2.8.2 in /system/conda/miniconda3/envs/cloudspace/lib/python3.10/site-packages (from pandas->evaluate) (2.9.0.post0)\n",
      "Requirement already satisfied: pytz>=2020.1 in /system/conda/miniconda3/envs/cloudspace/lib/python3.10/site-packages (from pandas->evaluate) (2025.2)\n",
      "Requirement already satisfied: tzdata>=2022.1 in /system/conda/miniconda3/envs/cloudspace/lib/python3.10/site-packages (from pandas->evaluate) (2025.2)\n",
      "Requirement already satisfied: jsonlines in /system/conda/miniconda3/envs/cloudspace/lib/python3.10/site-packages (4.0.0)\n",
      "Requirement already satisfied: pandas in /system/conda/miniconda3/envs/cloudspace/lib/python3.10/site-packages (2.1.4)\n",
      "Requirement already satisfied: numpy in /system/conda/miniconda3/envs/cloudspace/lib/python3.10/site-packages (1.26.4)\n",
      "Requirement already satisfied: scikit-learn in /system/conda/miniconda3/envs/cloudspace/lib/python3.10/site-packages (1.3.2)\n",
      "Requirement already satisfied: attrs>=19.2.0 in /system/conda/miniconda3/envs/cloudspace/lib/python3.10/site-packages (from jsonlines) (25.3.0)\n",
      "Requirement already satisfied: python-dateutil>=2.8.2 in /system/conda/miniconda3/envs/cloudspace/lib/python3.10/site-packages (from pandas) (2.9.0.post0)\n",
      "Requirement already satisfied: pytz>=2020.1 in /system/conda/miniconda3/envs/cloudspace/lib/python3.10/site-packages (from pandas) (2025.2)\n",
      "Requirement already satisfied: tzdata>=2022.1 in /system/conda/miniconda3/envs/cloudspace/lib/python3.10/site-packages (from pandas) (2025.2)\n",
      "Requirement already satisfied: scipy>=1.5.0 in /system/conda/miniconda3/envs/cloudspace/lib/python3.10/site-packages (from scikit-learn) (1.11.4)\n",
      "Requirement already satisfied: joblib>=1.1.1 in /system/conda/miniconda3/envs/cloudspace/lib/python3.10/site-packages (from scikit-learn) (1.5.1)\n",
      "Requirement already satisfied: threadpoolctl>=2.0.0 in /system/conda/miniconda3/envs/cloudspace/lib/python3.10/site-packages (from scikit-learn) (3.6.0)\n",
      "Requirement already satisfied: six>=1.5 in /system/conda/miniconda3/envs/cloudspace/lib/python3.10/site-packages (from python-dateutil>=2.8.2->pandas) (1.17.0)\n",
      "Requirement already satisfied: gpustat in /system/conda/miniconda3/envs/cloudspace/lib/python3.10/site-packages (1.1.1)\n",
      "Requirement already satisfied: nvitop in /system/conda/miniconda3/envs/cloudspace/lib/python3.10/site-packages (1.5.1)\n",
      "Requirement already satisfied: nvidia-ml-py>=11.450.129 in /system/conda/miniconda3/envs/cloudspace/lib/python3.10/site-packages (from gpustat) (12.575.51)\n",
      "Requirement already satisfied: psutil>=5.6.0 in /system/conda/miniconda3/envs/cloudspace/lib/python3.10/site-packages (from gpustat) (7.0.0)\n",
      "Requirement already satisfied: blessed>=1.17.1 in /system/conda/miniconda3/envs/cloudspace/lib/python3.10/site-packages (from gpustat) (1.21.0)\n",
      "Requirement already satisfied: wcwidth>=0.1.4 in /system/conda/miniconda3/envs/cloudspace/lib/python3.10/site-packages (from blessed>=1.17.1->gpustat) (0.2.13)\n",
      "Requirement already satisfied: sentencepiece in /system/conda/miniconda3/envs/cloudspace/lib/python3.10/site-packages (0.2.0)\n",
      "Requirement already satisfied: protobuf in /system/conda/miniconda3/envs/cloudspace/lib/python3.10/site-packages (4.23.4)\n"
     ]
    }
   ],
   "source": [
    "!pip install torch torchvision torchaudio --index-url https://download.pytorch.org/whl/cu118\n",
    "!pip install transformers accelerate peft datasets bitsandbytes trl\n",
    "!pip install wandb tensorboard evaluate rouge_score sacrebleu\n",
    "!pip install jsonlines pandas numpy scikit-learn\n",
    "!pip install gpustat nvitop  # For GPU monitoring on L4\n",
    "!pip install sentencepiece  # Required for LlamaTokenizer\n",
    "!pip install protobuf  # Required dependency for sentencepiece"
   ]
  },
  {
   "cell_type": "code",
   "execution_count": null,
   "metadata": {},
   "outputs": [],
   "source": [
    "import os\n",
    "# L40S specific optimizations\n",
    "os.environ[\"PYTORCH_CUDA_ALLOC_CONF\"] = \"max_split_size_mb:512\"  # Higher for L40S\n",
    "os.environ[\"TOKENIZERS_PARALLELISM\"] = \"false\""
   ]
  },
  {
   "cell_type": "code",
   "execution_count": 3,
   "metadata": {},
   "outputs": [
    {
     "name": "stdout",
     "output_type": "stream",
     "text": [
      "Using device: cuda\n",
      "CUDA available: True\n",
      "GPU count: 1\n",
      "GPU 0: NVIDIA L40S (47.8GB)\n",
      "⚡ L4 detected! Optimizing for balanced performance...\n",
      "GPU Memory: 0.00GB allocated, 0.00GB reserved, 47.81GB total\n",
      "Memory utilization: 0.0%\n",
      "CPU: 4.6%, RAM: 7.5%\n"
     ]
    }
   ],
   "source": [
    "import torch\n",
    "import json\n",
    "import jsonlines\n",
    "import pandas as pd\n",
    "import numpy as np\n",
    "from transformers import (\n",
    "    AutoModelForCausalLM, \n",
    "    AutoTokenizer, \n",
    "    TrainingArguments, \n",
    "    Trainer,\n",
    "    BitsAndBytesConfig,\n",
    "    DataCollatorForLanguageModeling\n",
    ")\n",
    "from peft import LoraConfig, get_peft_model, TaskType, PeftModel\n",
    "from datasets import Dataset, load_dataset\n",
    "from trl import SFTTrainer\n",
    "import evaluate\n",
    "from sklearn.metrics import f1_score, mean_absolute_error\n",
    "import warnings\n",
    "import time\n",
    "import psutil\n",
    "warnings.filterwarnings(\"ignore\")\n",
    "\n",
    "# Set random seeds for reproducibility\n",
    "torch.manual_seed(42)\n",
    "np.random.seed(42)\n",
    "\n",
    "device = torch.device(\"cuda\" if torch.cuda.is_available() else \"cpu\")\n",
    "print(f\"Using device: {device}\")\n",
    "print(f\"CUDA available: {torch.cuda.is_available()}\")\n",
    "\n",
    "if torch.cuda.is_available():\n",
    "    print(f\"GPU count: {torch.cuda.device_count()}\")\n",
    "    for i in range(torch.cuda.device_count()):\n",
    "        gpu_name = torch.cuda.get_device_name(i)\n",
    "        gpu_memory = torch.cuda.get_device_properties(i).total_memory / 1e9\n",
    "        print(f\"GPU {i}: {gpu_name} ({gpu_memory:.1f}GB)\")\n",
    "        \n",
    "    # L4 specific optimizations\n",
    "    if \"L4\" in torch.cuda.get_device_name(0):\n",
    "        print(\"⚡ L4 detected! Optimizing for balanced performance...\")\n",
    "        torch.backends.cudnn.benchmark = True\n",
    "        torch.backends.cuda.matmul.allow_tf32 = True\n",
    "        torch.backends.cudnn.allow_tf32 = True\n",
    "\n",
    "def monitor_gpu_usage():\n",
    "    \"\"\"Monitor GPU usage for L4\"\"\"\n",
    "    if torch.cuda.is_available():\n",
    "        allocated = torch.cuda.memory_allocated() / 1e9\n",
    "        reserved = torch.cuda.memory_reserved() / 1e9\n",
    "        total = torch.cuda.get_device_properties(0).total_memory / 1e9\n",
    "        \n",
    "        print(f\"GPU Memory: {allocated:.2f}GB allocated, {reserved:.2f}GB reserved, {total:.2f}GB total\")\n",
    "        print(f\"Memory utilization: {(allocated/total)*100:.1f}%\")\n",
    "        \n",
    "        # Clear cache if utilization is high (conservative for L4)\n",
    "        if (reserved/total) > 0.75:\n",
    "            torch.cuda.empty_cache()\n",
    "            print(\"🧹 Cleared CUDA cache\")\n",
    "    \n",
    "    # CPU monitoring\n",
    "    cpu_percent = psutil.cpu_percent()\n",
    "    memory_percent = psutil.virtual_memory().percent\n",
    "    print(f\"CPU: {cpu_percent:.1f}%, RAM: {memory_percent:.1f}%\")\n",
    "\n",
    "# Initial monitoring\n",
    "monitor_gpu_usage()"
   ]
  },
  {
   "cell_type": "code",
   "execution_count": 4,
   "metadata": {},
   "outputs": [
    {
     "name": "stdout",
     "output_type": "stream",
     "text": [
      "GPU: NVIDIA L40S (47.8GB)\n",
      "🚀 L40S detected! Enabling high-performance optimizations...\n"
     ]
    }
   ],
   "source": [
    "if torch.cuda.is_available():\n",
    "    gpu_name = torch.cuda.get_device_name(0)\n",
    "    gpu_memory = torch.cuda.get_device_properties(0).total_memory / 1e9\n",
    "    print(f\"GPU: {gpu_name} ({gpu_memory:.1f}GB)\")\n",
    "    \n",
    "    if \"L40S\" in gpu_name:\n",
    "        print(\"🚀 L40S detected! Enabling high-performance optimizations...\")\n",
    "        torch.backends.cudnn.benchmark = True\n",
    "        torch.backends.cuda.matmul.allow_tf32 = True\n",
    "        torch.backends.cudnn.allow_tf32 = True\n",
    "        # L40S specific settings\n",
    "        torch.backends.cuda.matmul.allow_fp16_reduced_precision_reduction = True"
   ]
  },
  {
   "cell_type": "code",
   "execution_count": 5,
   "metadata": {},
   "outputs": [],
   "source": [
    "# Model configuration\n",
    "model_name = \"VietnamAIHub/Vietnamese_llama2_7B_8K_SFT_General_domain\"\n",
    "cache_dir = \"./cache\"\n",
    "output_dir = \"./finetuned_model\"\n",
    "dataset_path = \"./train.jsonl\"  # Your dataset path\n",
    "\n",
    "# L4 Optimized Configuration - Balanced performance\n",
    "bnb_config = BitsAndBytesConfig(\n",
    "    load_in_4bit=True,  # 4-bit quantization works better on L40S\n",
    "    bnb_4bit_use_double_quant=True,\n",
    "    bnb_4bit_quant_type=\"nf4\", \n",
    "    bnb_4bit_compute_dtype=torch.bfloat16,\n",
    ")\n",
    "\n",
    "# L4 Optimized LoRA configuration \n",
    "lora_config = LoraConfig(\n",
    "    r=128,  # Higher rank for L40S memory capacity\n",
    "    lora_alpha=64,  # Increased for better adaptation\n",
    "    target_modules=[\n",
    "        \"q_proj\", \"v_proj\", \"k_proj\", \"o_proj\", \n",
    "        \"gate_proj\", \"up_proj\", \"down_proj\",\n",
    "        \"lm_head\"  # Can include lm_head with L40S memory\n",
    "    ],\n",
    "    lora_dropout=0.05,  # Lower dropout for faster training\n",
    "    bias=\"none\",\n",
    "    task_type=TaskType.CAUSAL_LM,\n",
    ")\n",
    "\n",
    "# L4 Optimized Training Configuration\n",
    "training_args = TrainingArguments(\n",
    "    output_dir=output_dir,\n",
    "    num_train_epochs=3,\n",
    "    per_device_train_batch_size=8,  # 4x larger than L4\n",
    "    per_device_eval_batch_size=8,\n",
    "    gradient_accumulation_steps=2,  # Effective batch size = 16\n",
    "    optim=\"adamw_torch\",\n",
    "    save_steps=100,  # More frequent saves\n",
    "    logging_steps=20,  # More frequent logging  \n",
    "    learning_rate=2e-4,  # Higher LR for larger effective batch\n",
    "    weight_decay=0.01,\n",
    "    fp16=False,\n",
    "    bf16=True,\n",
    "    max_grad_norm=1.0,\n",
    "    max_steps=-1,\n",
    "    warmup_ratio=0.03,\n",
    "    group_by_length=True,\n",
    "    lr_scheduler_type=\"cosine\",\n",
    "    report_to=\"tensorboard\",\n",
    "    eval_strategy=\"steps\", \n",
    "    eval_steps=100,\n",
    "    save_strategy=\"steps\",\n",
    "    load_best_model_at_end=True,\n",
    "    metric_for_best_model=\"eval_loss\",\n",
    "    greater_is_better=False,\n",
    "    dataloader_drop_last=True,\n",
    "    dataloader_num_workers=8,  # More workers for L40S\n",
    "    remove_unused_columns=False,\n",
    "    seed=42,\n",
    "    data_seed=42,\n",
    "    gradient_checkpointing=True,  # Important for memory efficiency\n",
    ")"
   ]
  },
  {
   "cell_type": "code",
   "execution_count": null,
   "metadata": {},
   "outputs": [
    {
     "name": "stdout",
     "output_type": "stream",
     "text": [
      "Loading base model and tokenizer for L4...\n",
      "GPU Memory: 0.00GB allocated, 0.00GB reserved, 47.81GB total\n",
      "Memory utilization: 0.0%\n",
      "CPU: 3.3%, RAM: 7.1%\n",
      "Tokenizer loaded. Vocab size: 32001\n",
      "Loading base model...\n"
     ]
    },
    {
     "data": {
      "application/vnd.jupyter.widget-view+json": {
       "model_id": "f485e5d9c78c4caeb10a781caaede6b9",
       "version_major": 2,
       "version_minor": 0
      },
      "text/plain": [
       "Loading checkpoint shards:   0%|          | 0/2 [00:00<?, ?it/s]"
      ]
     },
     "metadata": {},
     "output_type": "display_data"
    },
    {
     "name": "stderr",
     "output_type": "stream",
     "text": [
      "The following generation flags are not valid and may be ignored: ['temperature', 'top_p']. Set `TRANSFORMERS_VERBOSITY=info` for more details.\n",
      "The following generation flags are not valid and may be ignored: ['temperature', 'top_p']. Set `TRANSFORMERS_VERBOSITY=info` for more details.\n"
     ]
    },
    {
     "name": "stdout",
     "output_type": "stream",
     "text": [
      "Base model loaded in 14.29 seconds\n",
      "Base model loaded successfully!\n",
      "Model parameters: 3,500,412,928\n",
      "Trainable parameters: 262,410,240\n",
      "\n",
      "GPU usage after model loading:\n",
      "GPU Memory: 3.88GB allocated, 11.20GB reserved, 47.81GB total\n",
      "Memory utilization: 8.1%\n",
      "CPU: 9.0%, RAM: 7.4%\n"
     ]
    }
   ],
   "source": [
    "print(\"Loading base model and tokenizer for L4...\")\n",
    "monitor_gpu_usage()\n",
    "\n",
    "# Load tokenizer (Fixed: removed invalid tokenizer_type parameter)\n",
    "tokenizer = AutoTokenizer.from_pretrained(\n",
    "    model_name,\n",
    "    cache_dir=cache_dir,\n",
    "    padding_side=\"right\",\n",
    "    use_fast=False,  # Keep False to avoid conversion errors\n",
    "    token='hf_****************'\n",
    ")\n",
    "\n",
    "# Add special tokens if needed\n",
    "if tokenizer.pad_token is None:\n",
    "    tokenizer.pad_token = tokenizer.eos_token\n",
    "    tokenizer.pad_token_id = tokenizer.eos_token_id\n",
    "\n",
    "tokenizer.bos_token_id = 1\n",
    "print(f\"Tokenizer loaded. Vocab size: {len(tokenizer)}\")\n",
    "\n",
    "# Load base model (L4 optimized)\n",
    "print(\"Loading base model...\")\n",
    "start_time = time.time()\n",
    "\n",
    "base_model = AutoModelForCausalLM.from_pretrained(\n",
    "    model_name,\n",
    "    quantization_config=bnb_config,\n",
    "    torch_dtype=torch.bfloat16,\n",
    "    device_map=\"auto\",\n",
    "    cache_dir=cache_dir,\n",
    "    token='hf_****************'\n",
    ")\n",
    "\n",
    "load_time = time.time() - start_time\n",
    "print(f\"Base model loaded in {load_time:.2f} seconds\")\n",
    "\n",
    "# Prepare model for training\n",
    "base_model.config.use_cache = False\n",
    "\n",
    "print(\"Base model loaded successfully!\")\n",
    "print(f\"Model parameters: {sum(p.numel() for p in base_model.parameters()):,}\")\n",
    "print(f\"Trainable parameters: {sum(p.numel() for p in base_model.parameters() if p.requires_grad):,}\")\n",
    "\n",
    "# Monitor GPU usage after loading\n",
    "print(\"\\nGPU usage after model loading:\")\n",
    "monitor_gpu_usage()"
   ]
  },
  {
   "cell_type": "code",
   "execution_count": 7,
   "metadata": {},
   "outputs": [
    {
     "name": "stdout",
     "output_type": "stream",
     "text": [
      "Loading and preprocessing dataset...\n",
      "✅ Loaded 4855 examples from ./train.jsonl\n",
      "\n",
      "📄 Sample data (first item):\n",
      "Keys: ['instruction', 'input', 'output']\n",
      "  instruction: CV này có được trình bày chuyên nghiệp và rõ ràng không?\n",
      "  input: {'IV. KỸ NĂNG': {'1. Kỹ năng ngoại ngữ': {'Ngoại ngữ có thể sử dụng': ['Tiếng Anh', 'Ngoại ngữ khác:...\n",
      "  output: {'answer': 'Có', 'explanation': 'CV này được trình bày một cách chuyên nghiệp và rõ ràng, với các ph...\n",
      "Processing dataset...\n",
      "Processed 100/4855 examples...\n",
      "Processed 200/4855 examples...\n",
      "Processed 300/4855 examples...\n",
      "Processed 400/4855 examples...\n",
      "Processed 500/4855 examples...\n",
      "Processed 600/4855 examples...\n",
      "Processed 700/4855 examples...\n",
      "Processed 800/4855 examples...\n",
      "Processed 900/4855 examples...\n",
      "Processed 1000/4855 examples...\n",
      "Processed 1100/4855 examples...\n",
      "Processed 1200/4855 examples...\n",
      "Processed 1300/4855 examples...\n",
      "Processed 1400/4855 examples...\n",
      "Processed 1500/4855 examples...\n",
      "Processed 1600/4855 examples...\n",
      "Processed 1700/4855 examples...\n",
      "Processed 1800/4855 examples...\n",
      "Processed 1900/4855 examples...\n",
      "Processed 2000/4855 examples...\n",
      "Processed 2100/4855 examples...\n",
      "Processed 2200/4855 examples...\n",
      "Processed 2300/4855 examples...\n",
      "Processed 2400/4855 examples...\n",
      "Processed 2500/4855 examples...\n",
      "Processed 2600/4855 examples...\n",
      "Processed 2700/4855 examples...\n",
      "Processed 2800/4855 examples...\n",
      "Processed 2900/4855 examples...\n",
      "Processed 3000/4855 examples...\n",
      "Processed 3100/4855 examples...\n",
      "Processed 3200/4855 examples...\n",
      "Processed 3300/4855 examples...\n",
      "Processed 3400/4855 examples...\n",
      "Processed 3500/4855 examples...\n",
      "Processed 3600/4855 examples...\n",
      "Processed 3700/4855 examples...\n",
      "Processed 3800/4855 examples...\n",
      "Processed 3900/4855 examples...\n",
      "Processed 4000/4855 examples...\n",
      "Processed 4100/4855 examples...\n",
      "Processed 4200/4855 examples...\n",
      "Processed 4300/4855 examples...\n",
      "Processed 4400/4855 examples...\n",
      "Processed 4500/4855 examples...\n",
      "Processed 4600/4855 examples...\n",
      "Processed 4700/4855 examples...\n",
      "Processed 4800/4855 examples...\n",
      "✅ Successfully processed 4855 examples\n",
      "\n",
      "📊 Dataset sizes:\n",
      "- Train: 3884\n",
      "- Validation: 485\n",
      "- Test: 486\n",
      "\n",
      "🔍 Checking data types...\n",
      "  text: <class 'str'> - <s>[INST] <<SYS>>\n",
      "You are a helpful assistant, res...\n",
      "  instruction: <class 'str'> - CV này có được trình bày chuyên nghiệp và rõ ràng ...\n",
      "  input: <class 'str'> - {'IV. KỸ NĂNG': {'1. Kỹ năng ngoại ngữ': {'Ngoại n...\n",
      "  output: <class 'str'> - {\"answer\": \"Có\", \"explanation\": \"CV này được trình...\n",
      "\n",
      "🔄 Converting to HuggingFace datasets...\n",
      "✅ Successfully created HuggingFace datasets!\n",
      "Train dataset: Dataset({\n",
      "    features: ['text', 'instruction', 'input', 'output'],\n",
      "    num_rows: 3884\n",
      "})\n",
      "Validation dataset: Dataset({\n",
      "    features: ['text', 'instruction', 'input', 'output'],\n",
      "    num_rows: 485\n",
      "})\n",
      "Test dataset: Dataset({\n",
      "    features: ['text', 'instruction', 'input', 'output'],\n",
      "    num_rows: 486\n",
      "})\n"
     ]
    }
   ],
   "source": [
    "def load_jsonl_dataset(file_path):\n",
    "    \"\"\"Load JSONL dataset\"\"\"\n",
    "    data = []\n",
    "    try:\n",
    "        with jsonlines.open(file_path) as reader:\n",
    "            for line in reader:\n",
    "                data.append(line)\n",
    "        print(f\"✅ Loaded {len(data)} examples from {file_path}\")\n",
    "    except Exception as e:\n",
    "        print(f\"❌ Error loading dataset: {e}\")\n",
    "        return []\n",
    "    return data\n",
    "\n",
    "def create_prompt_format(instruction, input_text=\"\", output_text=\"\"):\n",
    "    \"\"\"Create prompt in the format expected by the model\"\"\"\n",
    "    system_prompt = \"\"\"You are a helpful assistant, respectful and honest assistant. Always answer as helpfully as possible, while being safe. Your answers should not include any harmful, unethical, racist, sexist, toxic, dangerous, or illegal content. Please ensure that your responses are socially unbiased and positive in nature. If a question does not make any sense, or is not factually coherent, explain why instead of answering something not correct. If you don't know the answer to a question, please response as language model you are not able to respone detailed to these kind of question.\"\"\"\n",
    "    \n",
    "    if input_text:\n",
    "        prompt = f\"<s>[INST] <<SYS>>\\n{system_prompt}\\n<</SYS>>\\n\\n{instruction}\\n\\nInput: {input_text} [/INST]\"\n",
    "    else:\n",
    "        prompt = f\"<s>[INST] <<SYS>>\\n{system_prompt}\\n<</SYS>>\\n\\n{instruction} [/INST]\"\n",
    "    \n",
    "    if output_text:\n",
    "        prompt += f\" {output_text}</s>\"\n",
    "    \n",
    "    return prompt\n",
    "\n",
    "def safe_convert_to_string(value):\n",
    "    \"\"\"Safely convert any value to string\"\"\"\n",
    "    if value is None:\n",
    "        return \"\"\n",
    "    elif isinstance(value, str):\n",
    "        return value\n",
    "    elif isinstance(value, (dict, list)):\n",
    "        return json.dumps(value, ensure_ascii=False)\n",
    "    else:\n",
    "        return str(value)\n",
    "\n",
    "def preprocess_dataset(data):\n",
    "    \"\"\"Preprocess the dataset for training - Fixed for Arrow compatibility\"\"\"\n",
    "    processed_data = []\n",
    "    \n",
    "    print(\"Processing dataset...\")\n",
    "    for i, item in enumerate(data):\n",
    "        try:\n",
    "            # Safely extract and convert all fields to strings\n",
    "            instruction = safe_convert_to_string(item.get(\"instruction\", \"\"))\n",
    "            input_text = safe_convert_to_string(item.get(\"input\", \"\"))\n",
    "            output_text = safe_convert_to_string(item.get(\"output\", \"\"))\n",
    "            \n",
    "            # Skip empty instructions\n",
    "            if not instruction.strip():\n",
    "                print(f\"⚠️  Skipping item {i}: empty instruction\")\n",
    "                continue\n",
    "            \n",
    "            # Create formatted prompt\n",
    "            full_prompt = create_prompt_format(instruction, input_text, output_text)\n",
    "            \n",
    "            # Ensure all values are strings\n",
    "            processed_item = {\n",
    "                \"text\": str(full_prompt),\n",
    "                \"instruction\": str(instruction),\n",
    "                \"input\": str(input_text),\n",
    "                \"output\": str(output_text)\n",
    "            }\n",
    "            \n",
    "            processed_data.append(processed_item)\n",
    "            \n",
    "            # Progress indicator\n",
    "            if (i + 1) % 100 == 0:\n",
    "                print(f\"Processed {i + 1}/{len(data)} examples...\")\n",
    "                \n",
    "        except Exception as e:\n",
    "            print(f\"⚠️  Error processing item {i}: {e}\")\n",
    "            continue\n",
    "    \n",
    "    print(f\"✅ Successfully processed {len(processed_data)} examples\")\n",
    "    return processed_data\n",
    "\n",
    "# Load and preprocess dataset\n",
    "print(\"Loading and preprocessing dataset...\")\n",
    "raw_data = load_jsonl_dataset(dataset_path)\n",
    "\n",
    "if len(raw_data) == 0:\n",
    "    print(\"❌ No data loaded. Please check your dataset path!\")\n",
    "    print(f\"Current path: {dataset_path}\")\n",
    "    print(\"Make sure the file exists and is in valid JSONL format\")\n",
    "else:\n",
    "    # Show sample data\n",
    "    print(f\"\\n📄 Sample data (first item):\")\n",
    "    print(f\"Keys: {list(raw_data[0].keys())}\")\n",
    "    for key, value in raw_data[0].items():\n",
    "        preview = str(value)[:100] + \"...\" if len(str(value)) > 100 else str(value)\n",
    "        print(f\"  {key}: {preview}\")\n",
    "\n",
    "processed_data = preprocess_dataset(raw_data)\n",
    "\n",
    "if len(processed_data) == 0:\n",
    "    print(\"❌ No processed data available!\")\n",
    "else:\n",
    "    # Split dataset\n",
    "    train_size = int(0.8 * len(processed_data))\n",
    "    val_size = int(0.1 * len(processed_data))\n",
    "    \n",
    "    train_data = processed_data[:train_size]\n",
    "    val_data = processed_data[train_size:train_size + val_size]\n",
    "    test_data = processed_data[train_size + val_size:]\n",
    "    \n",
    "    print(f\"\\n📊 Dataset sizes:\")\n",
    "    print(f\"- Train: {len(train_data)}\")\n",
    "    print(f\"- Validation: {len(val_data)}\")\n",
    "    print(f\"- Test: {len(test_data)}\")\n",
    "    \n",
    "    # Debug: Check data types before converting to Dataset\n",
    "    print(f\"\\n🔍 Checking data types...\")\n",
    "    sample_item = train_data[0]\n",
    "    for key, value in sample_item.items():\n",
    "        print(f\"  {key}: {type(value)} - {str(value)[:50]}...\")\n",
    "    \n",
    "    # Convert to HuggingFace datasets with error handling\n",
    "    try:\n",
    "        print(\"\\n🔄 Converting to HuggingFace datasets...\")\n",
    "        train_dataset = Dataset.from_list(train_data)\n",
    "        val_dataset = Dataset.from_list(val_data)\n",
    "        test_dataset = Dataset.from_list(test_data)\n",
    "        \n",
    "        print(\"✅ Successfully created HuggingFace datasets!\")\n",
    "        print(f\"Train dataset: {train_dataset}\")\n",
    "        print(f\"Validation dataset: {val_dataset}\")\n",
    "        print(f\"Test dataset: {test_dataset}\")\n",
    "        \n",
    "    except Exception as e:\n",
    "        print(f\"❌ Error creating datasets: {e}\")\n",
    "        print(\"Debugging first few items...\")\n",
    "        for i, item in enumerate(train_data[:3]):\n",
    "            print(f\"\\nItem {i}:\")\n",
    "            for key, value in item.items():\n",
    "                print(f\"  {key}: {type(value)} = {repr(value)[:100]}\")\n",
    "        raise e"
   ]
  },
  {
   "cell_type": "code",
   "execution_count": 8,
   "metadata": {},
   "outputs": [
    {
     "name": "stdout",
     "output_type": "stream",
     "text": [
      "Setting up LoRA for L4 training...\n",
      "GPU Memory: 3.88GB allocated, 11.20GB reserved, 47.81GB total\n",
      "Memory utilization: 8.1%\n",
      "CPU: 2.0%, RAM: 7.6%\n"
     ]
    },
    {
     "name": "stdout",
     "output_type": "stream",
     "text": [
      "trainable params: 324,435,968 || all params: 7,062,851,584 || trainable%: 4.5936\n",
      "\n",
      "LoRA Configuration Summary:\n",
      "- LoRA rank (r): 128\n",
      "- LoRA alpha: 64\n",
      "- Target modules: {'lm_head', 'up_proj', 'gate_proj', 'down_proj', 'q_proj', 'o_proj', 'k_proj', 'v_proj'}\n",
      "- Dropout: 0.05\n",
      "\n",
      "📊 Training Estimates for L4:\n",
      "- Total training examples: 3,884\n",
      "- Effective batch size: 16\n",
      "- Steps per epoch: 242\n",
      "- Total training steps: 726\n",
      "- Estimated training time: 0.7 hours\n",
      "- Max sequence length: 2048 tokens\n",
      "\n",
      "⚡ L4 is optimized for efficient training with good performance!\n"
     ]
    }
   ],
   "source": [
    "print(\"Setting up LoRA for L4 training...\")\n",
    "monitor_gpu_usage()\n",
    "\n",
    "# Apply LoRA to the model\n",
    "model = get_peft_model(base_model, lora_config)\n",
    "model.print_trainable_parameters()\n",
    "\n",
    "print(f\"\\nLoRA Configuration Summary:\")\n",
    "print(f\"- LoRA rank (r): {lora_config.r}\")\n",
    "print(f\"- LoRA alpha: {lora_config.lora_alpha}\")\n",
    "print(f\"- Target modules: {lora_config.target_modules}\")\n",
    "print(f\"- Dropout: {lora_config.lora_dropout}\")\n",
    "\n",
    "# Calculate training estimates for L4\n",
    "total_examples = len(train_dataset)\n",
    "effective_batch_size = training_args.per_device_train_batch_size * training_args.gradient_accumulation_steps\n",
    "steps_per_epoch = total_examples // effective_batch_size\n",
    "total_steps = steps_per_epoch * training_args.num_train_epochs\n",
    "\n",
    "print(f\"\\n📊 Training Estimates for L4:\")\n",
    "print(f\"- Total training examples: {total_examples:,}\")\n",
    "print(f\"- Effective batch size: {effective_batch_size}\")\n",
    "print(f\"- Steps per epoch: {steps_per_epoch:,}\")\n",
    "print(f\"- Total training steps: {total_steps:,}\")\n",
    "print(f\"- Estimated training time: {total_steps * 3.5 / 3600:.1f} hours\")  # ~3.5 seconds per step on L4\n",
    "print(f\"- Max sequence length: 2048 tokens\")\n",
    "\n",
    "print(\"\\n⚡ L4 is optimized for efficient training with good performance!\")"
   ]
  },
  {
   "cell_type": "code",
   "execution_count": 9,
   "metadata": {},
   "outputs": [
    {
     "name": "stdout",
     "output_type": "stream",
     "text": [
      "Starting training on L4...\n",
      "Effective batch size: 16\n",
      "Total training steps will be calculated based on dataset size...\n"
     ]
    },
    {
     "data": {
      "application/vnd.jupyter.widget-view+json": {
       "model_id": "e82606957ee54cbf97eadfc26cf09b77",
       "version_major": 2,
       "version_minor": 0
      },
      "text/plain": [
       "tokenizer_config.json:   0%|          | 0.00/746 [00:00<?, ?B/s]"
      ]
     },
     "metadata": {},
     "output_type": "display_data"
    },
    {
     "data": {
      "application/vnd.jupyter.widget-view+json": {
       "model_id": "e1110a6e19304ee5a0ae2682ba686527",
       "version_major": 2,
       "version_minor": 0
      },
      "text/plain": [
       "tokenizer.model:   0%|          | 0.00/500k [00:00<?, ?B/s]"
      ]
     },
     "metadata": {},
     "output_type": "display_data"
    },
    {
     "data": {
      "application/vnd.jupyter.widget-view+json": {
       "model_id": "6a449070b4514a62ba2b60d59cdf7cd6",
       "version_major": 2,
       "version_minor": 0
      },
      "text/plain": [
       "added_tokens.json:   0%|          | 0.00/21.0 [00:00<?, ?B/s]"
      ]
     },
     "metadata": {},
     "output_type": "display_data"
    },
    {
     "data": {
      "application/vnd.jupyter.widget-view+json": {
       "model_id": "f69a646424cb40cebb436b85e4eadaf7",
       "version_major": 2,
       "version_minor": 0
      },
      "text/plain": [
       "special_tokens_map.json:   0%|          | 0.00/322 [00:00<?, ?B/s]"
      ]
     },
     "metadata": {},
     "output_type": "display_data"
    },
    {
     "data": {
      "application/vnd.jupyter.widget-view+json": {
       "model_id": "56a990d2e830418dbeab9bbc3cf5d6f3",
       "version_major": 2,
       "version_minor": 0
      },
      "text/plain": [
       "Applying formatting function to train dataset:   0%|          | 0/3884 [00:00<?, ? examples/s]"
      ]
     },
     "metadata": {},
     "output_type": "display_data"
    },
    {
     "data": {
      "application/vnd.jupyter.widget-view+json": {
       "model_id": "4835e90363194a5da3895942e818bf7c",
       "version_major": 2,
       "version_minor": 0
      },
      "text/plain": [
       "Applying formatting function to train dataset:   0%|          | 0/3884 [00:00<?, ? examples/s]"
      ]
     },
     "metadata": {},
     "output_type": "display_data"
    },
    {
     "data": {
      "application/vnd.jupyter.widget-view+json": {
       "model_id": "58f05eae8bfb4b649a824ef726f3815d",
       "version_major": 2,
       "version_minor": 0
      },
      "text/plain": [
       "Adding EOS to train dataset:   0%|          | 0/3884 [00:00<?, ? examples/s]"
      ]
     },
     "metadata": {},
     "output_type": "display_data"
    },
    {
     "data": {
      "application/vnd.jupyter.widget-view+json": {
       "model_id": "5b428cc667b4453fa42336f96591f21e",
       "version_major": 2,
       "version_minor": 0
      },
      "text/plain": [
       "Tokenizing train dataset:   0%|          | 0/3884 [00:00<?, ? examples/s]"
      ]
     },
     "metadata": {},
     "output_type": "display_data"
    },
    {
     "data": {
      "application/vnd.jupyter.widget-view+json": {
       "model_id": "6741a466f5a942caa3a72d4c73effdf9",
       "version_major": 2,
       "version_minor": 0
      },
      "text/plain": [
       "Truncating train dataset:   0%|          | 0/3884 [00:00<?, ? examples/s]"
      ]
     },
     "metadata": {},
     "output_type": "display_data"
    },
    {
     "data": {
      "application/vnd.jupyter.widget-view+json": {
       "model_id": "7ca6ad48cfd449ccad75f970ffdb035c",
       "version_major": 2,
       "version_minor": 0
      },
      "text/plain": [
       "Applying formatting function to eval dataset:   0%|          | 0/485 [00:00<?, ? examples/s]"
      ]
     },
     "metadata": {},
     "output_type": "display_data"
    },
    {
     "data": {
      "application/vnd.jupyter.widget-view+json": {
       "model_id": "e6f46f81ae9c4e9189ba89ac74791787",
       "version_major": 2,
       "version_minor": 0
      },
      "text/plain": [
       "Applying formatting function to eval dataset:   0%|          | 0/485 [00:00<?, ? examples/s]"
      ]
     },
     "metadata": {},
     "output_type": "display_data"
    },
    {
     "data": {
      "application/vnd.jupyter.widget-view+json": {
       "model_id": "05884b3f3c5e4d46916d40cf63d50330",
       "version_major": 2,
       "version_minor": 0
      },
      "text/plain": [
       "Adding EOS to eval dataset:   0%|          | 0/485 [00:00<?, ? examples/s]"
      ]
     },
     "metadata": {},
     "output_type": "display_data"
    },
    {
     "data": {
      "application/vnd.jupyter.widget-view+json": {
       "model_id": "f547d72bbab14608931932ddcbefedd0",
       "version_major": 2,
       "version_minor": 0
      },
      "text/plain": [
       "Tokenizing eval dataset:   0%|          | 0/485 [00:00<?, ? examples/s]"
      ]
     },
     "metadata": {},
     "output_type": "display_data"
    },
    {
     "data": {
      "application/vnd.jupyter.widget-view+json": {
       "model_id": "eb637c05b54f44ecaa9cffc699cf19b4",
       "version_major": 2,
       "version_minor": 0
      },
      "text/plain": [
       "Truncating eval dataset:   0%|          | 0/485 [00:00<?, ? examples/s]"
      ]
     },
     "metadata": {},
     "output_type": "display_data"
    },
    {
     "name": "stderr",
     "output_type": "stream",
     "text": [
      "No label_names provided for model class `PeftModelForCausalLM`. Since `PeftModel` hides base models input arguments, if label_names is not given, label_names can't be set automatically within `Trainer`. Note that empty label_names list will be used instead.\n"
     ]
    },
    {
     "name": "stdout",
     "output_type": "stream",
     "text": [
      "GPU memory before training: 5.23GB / 12.03GB\n",
      "🚀 Starting training process...\n"
     ]
    },
    {
     "data": {
      "text/html": [
       "\n",
       "    <div>\n",
       "      \n",
       "      <progress value='729' max='729' style='width:300px; height:20px; vertical-align: middle;'></progress>\n",
       "      [729/729 33:06, Epoch 3/3]\n",
       "    </div>\n",
       "    <table border=\"1\" class=\"dataframe\">\n",
       "  <thead>\n",
       " <tr style=\"text-align: left;\">\n",
       "      <th>Step</th>\n",
       "      <th>Training Loss</th>\n",
       "      <th>Validation Loss</th>\n",
       "    </tr>\n",
       "  </thead>\n",
       "  <tbody>\n",
       "    <tr>\n",
       "      <td>100</td>\n",
       "      <td>1.192100</td>\n",
       "      <td>1.133918</td>\n",
       "    </tr>\n",
       "    <tr>\n",
       "      <td>200</td>\n",
       "      <td>0.959200</td>\n",
       "      <td>0.966385</td>\n",
       "    </tr>\n",
       "    <tr>\n",
       "      <td>300</td>\n",
       "      <td>0.896100</td>\n",
       "      <td>0.887831</td>\n",
       "    </tr>\n",
       "    <tr>\n",
       "      <td>400</td>\n",
       "      <td>0.838800</td>\n",
       "      <td>0.848585</td>\n",
       "    </tr>\n",
       "    <tr>\n",
       "      <td>500</td>\n",
       "      <td>0.805300</td>\n",
       "      <td>0.830330</td>\n",
       "    </tr>\n",
       "    <tr>\n",
       "      <td>600</td>\n",
       "      <td>0.809300</td>\n",
       "      <td>0.823144</td>\n",
       "    </tr>\n",
       "    <tr>\n",
       "      <td>700</td>\n",
       "      <td>0.790800</td>\n",
       "      <td>0.819827</td>\n",
       "    </tr>\n",
       "  </tbody>\n",
       "</table><p>"
      ],
      "text/plain": [
       "<IPython.core.display.HTML object>"
      ]
     },
     "metadata": {},
     "output_type": "display_data"
    },
    {
     "name": "stdout",
     "output_type": "stream",
     "text": [
      "GPU memory after training: 5.29GB / 46.94GB\n",
      "💾 Saving finetuned model...\n",
      "✅ Training completed successfully on L4!\n",
      "📊 Training logs saved to ./finetuned_model/training_logs.json\n"
     ]
    }
   ],
   "source": [
    "print(\"Starting training on L4...\")\n",
    "print(f\"Effective batch size: {training_args.per_device_train_batch_size * training_args.gradient_accumulation_steps}\")\n",
    "print(f\"Total training steps will be calculated based on dataset size...\")\n",
    "\n",
    "# Define formatting function for SFTTrainer\n",
    "def formatting_prompts_func(example):\n",
    "    \"\"\"Format the dataset for SFTTrainer - Fixed version\"\"\"\n",
    "    output_texts = []\n",
    "    for i in range(len(example['instruction'])):\n",
    "        instruction = example['instruction'][i]\n",
    "        input_text = example['input'][i] if 'input' in example else \"\"\n",
    "        output_text = example['output'][i]\n",
    "        \n",
    "        # Create formatted prompt\n",
    "        full_prompt = create_prompt_format(instruction, input_text, output_text)\n",
    "        output_texts.append(full_prompt)\n",
    "    \n",
    "    return output_texts\n",
    "\n",
    "# Create SFTTrainer with updated API\n",
    "trainer = SFTTrainer(\n",
    "    model=model,\n",
    "    train_dataset=train_dataset,\n",
    "    eval_dataset=val_dataset,\n",
    "    formatting_func=formatting_prompts_func,  # Updated parameter name\n",
    "    args=training_args,\n",
    ")\n",
    "\n",
    "# Monitor GPU usage before training\n",
    "if torch.cuda.is_available():\n",
    "    print(f\"GPU memory before training: {torch.cuda.memory_allocated()/1e9:.2f}GB / {torch.cuda.memory_reserved()/1e9:.2f}GB\")\n",
    "\n",
    "# Start training\n",
    "print(\"🚀 Starting training process...\")\n",
    "trainer.train()\n",
    "\n",
    "# Monitor GPU usage after training\n",
    "if torch.cuda.is_available():\n",
    "    print(f\"GPU memory after training: {torch.cuda.memory_allocated()/1e9:.2f}GB / {torch.cuda.memory_reserved()/1e9:.2f}GB\")\n",
    "\n",
    "# Save the finetuned model\n",
    "print(\"💾 Saving finetuned model...\")\n",
    "trainer.model.save_pretrained(output_dir)\n",
    "tokenizer.save_pretrained(output_dir)\n",
    "\n",
    "print(\"✅ Training completed successfully on L4!\")\n",
    "\n",
    "# Save training metrics\n",
    "training_logs = trainer.state.log_history\n",
    "with open(f\"{output_dir}/training_logs.json\", \"w\") as f:\n",
    "    json.dump(training_logs, f, indent=2, default=str)\n",
    "\n",
    "print(f\"📊 Training logs saved to {output_dir}/training_logs.json\")"
   ]
  },
  {
   "cell_type": "code",
   "execution_count": 10,
   "metadata": {},
   "outputs": [
    {
     "name": "stderr",
     "output_type": "stream",
     "text": [
      "The `load_in_4bit` and `load_in_8bit` arguments are deprecated and will be removed in the future versions. Please, pass a `BitsAndBytesConfig` object in `quantization_config` argument instead.\n"
     ]
    },
    {
     "name": "stdout",
     "output_type": "stream",
     "text": [
      "Loading finetuned model...\n"
     ]
    },
    {
     "data": {
      "application/vnd.jupyter.widget-view+json": {
       "model_id": "6913b3170bd9488bb499f0174535d0b3",
       "version_major": 2,
       "version_minor": 0
      },
      "text/plain": [
       "Loading checkpoint shards:   0%|          | 0/2 [00:00<?, ?it/s]"
      ]
     },
     "metadata": {},
     "output_type": "display_data"
    },
    {
     "name": "stderr",
     "output_type": "stream",
     "text": [
      "The following generation flags are not valid and may be ignored: ['temperature', 'top_p']. Set `TRANSFORMERS_VERBOSITY=info` for more details.\n",
      "The following generation flags are not valid and may be ignored: ['temperature', 'top_p']. Set `TRANSFORMERS_VERBOSITY=info` for more details.\n"
     ]
    },
    {
     "name": "stdout",
     "output_type": "stream",
     "text": [
      "Finetuned model loaded successfully!\n",
      "\n",
      "Memory usage with both models loaded:\n",
      "GPU Memory: 13.64GB allocated, 46.95GB reserved, 47.81GB total\n",
      "Memory utilization: 28.5%\n",
      "🧹 Cleared CUDA cache\n",
      "CPU: 7.8%, RAM: 19.3%\n"
     ]
    }
   ],
   "source": [
    "print(\"Loading finetuned model...\")\n",
    "\n",
    "# Load the finetuned model (using same config as original for L4)\n",
    "finetuned_model = AutoModelForCausalLM.from_pretrained(\n",
    "    model_name,\n",
    "    load_in_8bit=True,\n",
    "    torch_dtype=torch.bfloat16,\n",
    "    pretraining_tp=1,\n",
    "    cache_dir=cache_dir,\n",
    "    device_map=\"auto\",\n",
    ")\n",
    "\n",
    "finetuned_model = PeftModel.from_pretrained(finetuned_model, output_dir)\n",
    "\n",
    "print(\"Finetuned model loaded successfully!\")\n",
    "\n",
    "# Monitor memory usage after loading both models\n",
    "print(\"\\nMemory usage with both models loaded:\")\n",
    "monitor_gpu_usage()"
   ]
  },
  {
   "cell_type": "code",
   "execution_count": 11,
   "metadata": {},
   "outputs": [],
   "source": [
    "def generate_response(model, tokenizer, instruction, input_text=\"\", max_new_tokens=400):\n",
    "    \"\"\"Generate response from model\"\"\"\n",
    "    prompt = create_prompt_format(instruction, input_text)\n",
    "    \n",
    "    # Remove the output part for generation\n",
    "    prompt = prompt.replace(\"</s>\", \"\")\n",
    "    \n",
    "    inputs = tokenizer(prompt, return_tensors=\"pt\").to(device)\n",
    "    \n",
    "    generation_config = {\n",
    "        \"temperature\": 0.1,\n",
    "        \"top_k\": 30,\n",
    "        \"top_p\": 0.95,\n",
    "        \"do_sample\": True,\n",
    "        \"repetition_penalty\": 1.2,\n",
    "        \"max_new_tokens\": max_new_tokens,\n",
    "        \"eos_token_id\": tokenizer.eos_token_id,\n",
    "        \"pad_token_id\": tokenizer.pad_token_id,\n",
    "    }\n",
    "    \n",
    "    with torch.no_grad():\n",
    "        outputs = model.generate(**inputs, **generation_config)\n",
    "    \n",
    "    # Decode only the generated part\n",
    "    generated_text = tokenizer.decode(outputs[0][inputs['input_ids'].shape[1]:], skip_special_tokens=True)\n",
    "    return generated_text.strip()\n",
    "\n",
    "def calculate_rouge_scores(predictions, references):\n",
    "    \"\"\"Calculate ROUGE scores\"\"\"\n",
    "    rouge = evaluate.load(\"rouge\")\n",
    "    results = rouge.compute(predictions=predictions, references=references)\n",
    "    return results\n",
    "\n",
    "def calculate_bleu_score(predictions, references):\n",
    "    \"\"\"Calculate BLEU score\"\"\"\n",
    "    bleu = evaluate.load(\"sacrebleu\")\n",
    "    # Convert references to list of lists format required by BLEU\n",
    "    references_formatted = [[ref] for ref in references]\n",
    "    results = bleu.compute(predictions=predictions, references=references_formatted)\n",
    "    return results\n",
    "\n",
    "def semantic_similarity_score(pred_text, ref_text):\n",
    "    \"\"\"Simple semantic similarity based on word overlap\"\"\"\n",
    "    pred_words = set(pred_text.lower().split())\n",
    "    ref_words = set(ref_text.lower().split())\n",
    "    \n",
    "    if len(ref_words) == 0:\n",
    "        return 0.0\n",
    "    \n",
    "    intersection = pred_words.intersection(ref_words)\n",
    "    return len(intersection) / len(ref_words)"
   ]
  },
  {
   "cell_type": "code",
   "execution_count": 12,
   "metadata": {},
   "outputs": [
    {
     "name": "stdout",
     "output_type": "stream",
     "text": [
      "Evaluating base model...\n",
      "Evaluating Base Model...\n",
      "Processed 10 samples...\n",
      "Processed 20 samples...\n",
      "Processed 30 samples...\n",
      "Processed 40 samples...\n",
      "Processed 50 samples...\n"
     ]
    },
    {
     "data": {
      "application/vnd.jupyter.widget-view+json": {
       "model_id": "f5070c0bfd034048ad2fb39ec1af8cb5",
       "version_major": 2,
       "version_minor": 0
      },
      "text/plain": [
       "Downloading builder script: 0.00B [00:00, ?B/s]"
      ]
     },
     "metadata": {},
     "output_type": "display_data"
    },
    {
     "data": {
      "application/vnd.jupyter.widget-view+json": {
       "model_id": "9eaa09d27a2046c395fbcfed48f33632",
       "version_major": 2,
       "version_minor": 0
      },
      "text/plain": [
       "Downloading builder script: 0.00B [00:00, ?B/s]"
      ]
     },
     "metadata": {},
     "output_type": "display_data"
    },
    {
     "name": "stdout",
     "output_type": "stream",
     "text": [
      "Evaluating finetuned model...\n",
      "Evaluating Finetuned Model...\n",
      "Processed 10 samples...\n",
      "Processed 20 samples...\n",
      "Processed 30 samples...\n",
      "Processed 40 samples...\n",
      "Processed 50 samples...\n"
     ]
    }
   ],
   "source": [
    "def evaluate_model(model, test_data, model_name):\n",
    "    \"\"\"Evaluate model performance\"\"\"\n",
    "    predictions = []\n",
    "    references = []\n",
    "    \n",
    "    print(f\"Evaluating {model_name}...\")\n",
    "    \n",
    "    for i, item in enumerate(test_data[:50]):  # Evaluate on first 50 samples for speed\n",
    "        instruction = item[\"instruction\"]\n",
    "        input_text = item[\"input\"]\n",
    "        reference = item[\"output\"]\n",
    "        \n",
    "        # Generate prediction\n",
    "        prediction = generate_response(model, tokenizer, instruction, input_text)\n",
    "        \n",
    "        predictions.append(prediction)\n",
    "        references.append(reference if isinstance(reference, str) else json.dumps(reference, ensure_ascii=False))\n",
    "        \n",
    "        if (i + 1) % 10 == 0:\n",
    "            print(f\"Processed {i + 1} samples...\")\n",
    "    \n",
    "    # Calculate metrics\n",
    "    rouge_scores = calculate_rouge_scores(predictions, references)\n",
    "    bleu_scores = calculate_bleu_score(predictions, references)\n",
    "    \n",
    "    # Calculate semantic similarity\n",
    "    semantic_scores = [semantic_similarity_score(pred, ref) for pred, ref in zip(predictions, references)]\n",
    "    avg_semantic_score = np.mean(semantic_scores)\n",
    "    \n",
    "    return {\n",
    "        \"model_name\": model_name,\n",
    "        \"rouge1\": rouge_scores[\"rouge1\"],\n",
    "        \"rouge2\": rouge_scores[\"rouge2\"],\n",
    "        \"rougeL\": rouge_scores[\"rougeL\"],\n",
    "        \"bleu\": bleu_scores[\"score\"],\n",
    "        \"semantic_similarity\": avg_semantic_score,\n",
    "        \"predictions\": predictions,\n",
    "        \"references\": references\n",
    "    }\n",
    "\n",
    "# Evaluate base model\n",
    "print(\"Evaluating base model...\")\n",
    "base_results = evaluate_model(base_model, test_data, \"Base Model\")\n",
    "\n",
    "# Evaluate finetuned model\n",
    "print(\"Evaluating finetuned model...\")\n",
    "finetuned_results = evaluate_model(finetuned_model, test_data, \"Finetuned Model\")\n"
   ]
  },
  {
   "cell_type": "code",
   "execution_count": 13,
   "metadata": {},
   "outputs": [
    {
     "name": "stdout",
     "output_type": "stream",
     "text": [
      "\n",
      "================================================================================\n",
      "MODEL COMPARISON RESULTS\n",
      "================================================================================\n",
      "             Metric  Base Model  Finetuned Model  Improvement  Improvement (%)\n",
      "             rouge1      0.4628           0.4730       0.0101           2.1927\n",
      "             rouge2      0.2322           0.2175      -0.0147          -6.3316\n",
      "             rougeL      0.3218           0.3179      -0.0039          -1.2146\n",
      "               bleu      8.1643           8.3934       0.2291           2.8058\n",
      "semantic_similarity      0.2641           0.2338      -0.0303         -11.4609\n"
     ]
    },
    {
     "data": {
      "image/png": "[encoded data removed]",
      "text/plain": [
       "<Figure size 1200x800 with 2 Axes>"
      ]
     },
     "metadata": {},
     "output_type": "display_data"
    }
   ],
   "source": [
    "import matplotlib.pyplot as plt\n",
    "\n",
    "def create_comparison_table(base_results, finetuned_results):\n",
    "    \"\"\"Create comparison table\"\"\"\n",
    "    metrics = [\"rouge1\", \"rouge2\", \"rougeL\", \"bleu\", \"semantic_similarity\"]\n",
    "    \n",
    "    comparison_data = {\n",
    "        \"Metric\": metrics,\n",
    "        \"Base Model\": [base_results[metric] for metric in metrics],\n",
    "        \"Finetuned Model\": [finetuned_results[metric] for metric in metrics],\n",
    "        \"Improvement\": [finetuned_results[metric] - base_results[metric] for metric in metrics],\n",
    "        \"Improvement (%)\": [((finetuned_results[metric] - base_results[metric]) / base_results[metric] * 100) \n",
    "                           if base_results[metric] != 0 else 0 for metric in metrics]\n",
    "    }\n",
    "    \n",
    "    df = pd.DataFrame(comparison_data)\n",
    "    return df\n",
    "\n",
    "# Create comparison table\n",
    "comparison_df = create_comparison_table(base_results, finetuned_results)\n",
    "print(\"\\n\" + \"=\"*80)\n",
    "print(\"MODEL COMPARISON RESULTS\")\n",
    "print(\"=\"*80)\n",
    "print(comparison_df.to_string(index=False, float_format=\"%.4f\"))\n",
    "\n",
    "# Visualize results\n",
    "plt.figure(figsize=(12, 8))\n",
    "\n",
    "metrics = [\"ROUGE-1\", \"ROUGE-2\", \"ROUGE-L\", \"BLEU\", \"Semantic Similarity\"]\n",
    "base_scores = [base_results[\"rouge1\"], base_results[\"rouge2\"], base_results[\"rougeL\"], \n",
    "               base_results[\"bleu\"]/100, base_results[\"semantic_similarity\"]]  # Normalize BLEU\n",
    "finetuned_scores = [finetuned_results[\"rouge1\"], finetuned_results[\"rouge2\"], finetuned_results[\"rougeL\"], \n",
    "                   finetuned_results[\"bleu\"]/100, finetuned_results[\"semantic_similarity\"]]\n",
    "\n",
    "x = np.arange(len(metrics))\n",
    "width = 0.35\n",
    "\n",
    "plt.subplot(2, 1, 1)\n",
    "plt.bar(x - width/2, base_scores, width, label='Base Model', alpha=0.8)\n",
    "plt.bar(x + width/2, finetuned_scores, width, label='Finetuned Model', alpha=0.8)\n",
    "plt.xlabel('Metrics')\n",
    "plt.ylabel('Scores')\n",
    "plt.title('Model Performance Comparison')\n",
    "plt.xticks(x, metrics, rotation=45)\n",
    "plt.legend()\n",
    "plt.grid(True, alpha=0.3)\n",
    "\n",
    "# Improvement chart\n",
    "improvements = [f - b for f, b in zip(finetuned_scores, base_scores)]\n",
    "plt.subplot(2, 1, 2)\n",
    "colors = ['green' if imp > 0 else 'red' for imp in improvements]\n",
    "plt.bar(metrics, improvements, color=colors, alpha=0.7)\n",
    "plt.xlabel('Metrics')\n",
    "plt.ylabel('Improvement')\n",
    "plt.title('Performance Improvement (Finetuned - Base)')\n",
    "plt.xticks(rotation=45)\n",
    "plt.grid(True, alpha=0.3)\n",
    "\n",
    "plt.tight_layout()\n",
    "plt.show()"
   ]
  },
  {
   "cell_type": "code",
   "execution_count": 14,
   "metadata": {},
   "outputs": [
    {
     "name": "stdout",
     "output_type": "stream",
     "text": [
      "\n",
      "====================================================================================================\n",
      "SAMPLE PREDICTIONS ANALYSIS\n",
      "====================================================================================================\n",
      "\n",
      "--- Sample 1 ---\n",
      "Instruction: Ứng viên có đạt được thành tựu cụ thể và có thể đo lường được trong công việc không?\n",
      "Input: {'Họ và tên': 'TRINH THI VY', 'Giới tính': 'Nữ', 'Ngày sinh': '05/09/2000', 'Số điện thoại': '0945652728', 'Email': 'Vyyyo5092000@gmail.com', 'Địa chỉ': 'TT Buôn Trấp-Krông Ana-Đắk Lắk', 'Trình độ học...\n",
      "\n",
      "Reference Output: Ứng viên đã có kinh nghiệm làm việc tại các thẩm mỹ viện và spa, cụ thể làm việc ở Thẩm mỹ viện Ngọc Dung và Queen Spa với vị trí Kỹ thuật viên spa, cho thấy thành tựu cụ thể và có thể đo lường được t...\n",
      "\n",
      "Base Model Output: {\"answer\": \"Ứng viên đạt được thành tựu cụ thể và có thể đo lường được trong công việc.\", \"justification\": \"Thông tin CV cung cấp rõ ràng đầu tư vào kinh nghiệm làm việc, kiến thức, kỹ năng, khả năng,...\n",
      "\n",
      "Finetuned Model Output: {\"answer\": \"Ứng viên đạt được thành tực cụ thể và có thể đo lường được trong công việc.\", \"justification\": \"\"}...\n",
      "----------------------------------------------------------------------------------------------------\n",
      "\n",
      "--- Sample 2 ---\n",
      "Instruction: Ứng viên có đạt được thành tựu cụ thể và có thể đo lường được trong công việc không?\n",
      "Input: {'Họ tên': 'LÊ THỊ KIM NGÂN', 'Chức danh': 'NHÂN VIÊN KINH DOANH BDS', 'Mục tiêu nghề nghiệp': 'Mong muốn tìm được môi trường có thể phát huy tốt hết khả năng của bản thân. -Có cơ hội thăng tiến, học ...\n",
      "\n",
      "Reference Output: {\"answer\": \"Có\", \"explanation\": \"Ứng viên đã đạt được thành tích trong công việc khi hoàn thành nhiệm vụ được giao từ cấp quản lý tại Công ty BDS Bảo Lộc House.\"}...\n",
      "\n",
      "Base Model Output: {\"answer\": \"Ứng viên đã đạt được thành tựu cụ thể và có thể đo lường được trong công việc.\", \"justification\": \"Ứng viên đã đạt được thành tựu cụ thể và có thể đo lường được trong công việc.\"}...\n",
      "\n",
      "Finetuned Model Output: {\"answer\": \"Ứng viên đã đạt được thành tực cụ thể và có thể đo lường được trong công việc.\", \"justification\": \"\"}...\n",
      "----------------------------------------------------------------------------------------------------\n",
      "\n",
      "--- Sample 3 ---\n",
      "Instruction: CV này có được trình bày chuyên nghiệp và rõ ràng không?\n",
      "Input: {'Họ tên': 'LÊ THỊ KIM NGÂN', 'Chức danh': 'NHÂN VIÊN KINH DOANH BDS', 'Mục tiêu nghề nghiệp': 'Mong muốn tìm được môi trường có thể phát huy tốt hết khả năng của bản thân. -Có cơ hội thăng tiến, học ...\n",
      "\n",
      "Reference Output: {\"answer\": \"Không\", \"explanation\": \"CV không được trình bày chuyên nghiệp và rõ ràng, thiếu thông tin cụ thể về kinh nghiệm làm việc tại Công ty CP PT BDS Thanh Niên Holdings trong khoảng thời gian từ...\n",
      "\n",
      "Base Model Output: CV đã được trình bày chuyên nghiệp và rõ ràng....\n",
      "\n",
      "Finetuned Model Output: {\"answer\": \"CV đã được trình bày chuyên nghiệp và rõ ràng. Chức năng chính xác và các chi tiết liên quan được hiển thị một cách logic.\"}...\n",
      "----------------------------------------------------------------------------------------------------\n"
     ]
    }
   ],
   "source": [
    "def show_sample_predictions(base_results, finetuned_results, num_samples=3):\n",
    "    \"\"\"Show sample predictions for qualitative analysis\"\"\"\n",
    "    print(\"\\n\" + \"=\"*100)\n",
    "    print(\"SAMPLE PREDICTIONS ANALYSIS\")\n",
    "    print(\"=\"*100)\n",
    "    \n",
    "    for i in range(min(num_samples, len(test_data))):\n",
    "        print(f\"\\n--- Sample {i+1} ---\")\n",
    "        print(f\"Instruction: {test_data[i]['instruction']}\")\n",
    "        print(f\"Input: {test_data[i]['input'][:200]}...\")  # Truncate long inputs\n",
    "        print(f\"\\nReference Output: {base_results['references'][i][:200]}...\")\n",
    "        print(f\"\\nBase Model Output: {base_results['predictions'][i][:200]}...\")\n",
    "        print(f\"\\nFinetuned Model Output: {finetuned_results['predictions'][i][:200]}...\")\n",
    "        print(\"-\" * 100)\n",
    "\n",
    "show_sample_predictions(base_results, finetuned_results)"
   ]
  },
  {
   "cell_type": "code",
   "execution_count": 15,
   "metadata": {},
   "outputs": [
    {
     "name": "stdout",
     "output_type": "stream",
     "text": [
      "\n",
      "Results saved to ./finetuned_model/\n",
      "Files created:\n",
      "- evaluation_results.json: Detailed results\n",
      "- comparison_table.csv: Comparison metrics\n",
      "- Model files: adapter_config.json, adapter_model.bin, etc.\n"
     ]
    }
   ],
   "source": [
    "results_summary = {\n",
    "    \"base_model_results\": base_results,\n",
    "    \"finetuned_model_results\": finetuned_results,\n",
    "    \"comparison_table\": comparison_df.to_dict(),\n",
    "    \"training_config\": {\n",
    "        \"model_name\": model_name,\n",
    "        \"lora_config\": lora_config.__dict__,\n",
    "        \"training_args\": training_args.__dict__,\n",
    "        \"dataset_size\": {\n",
    "            \"train\": len(train_data),\n",
    "            \"val\": len(val_data),\n",
    "            \"test\": len(test_data)\n",
    "        }\n",
    "    }\n",
    "}\n",
    "\n",
    "# Save to JSON\n",
    "with open(f\"{output_dir}/evaluation_results.json\", \"w\", encoding=\"utf-8\") as f:\n",
    "    json.dump(results_summary, f, ensure_ascii=False, indent=2, default=str)\n",
    "\n",
    "# Save comparison table to CSV\n",
    "comparison_df.to_csv(f\"{output_dir}/comparison_table.csv\", index=False)\n",
    "\n",
    "print(f\"\\nResults saved to {output_dir}/\")\n",
    "print(\"Files created:\")\n",
    "print(\"- evaluation_results.json: Detailed results\")\n",
    "print(\"- comparison_table.csv: Comparison metrics\")\n",
    "print(\"- Model files: adapter_config.json, adapter_model.bin, etc.\")\n",
    "\n",
    "# Cell 14: Test the Finetuned Model (Interactive)\n",
    "def test_model_interactive():\n",
    "    \"\"\"Interactive testing function\"\"\"\n",
    "    print(\"\\n\" + \"=\"*60)\n",
    "    print(\"INTERACTIVE MODEL TESTING\")\n",
    "    print(\"=\"*60)\n",
    "    print(\"Enter 'quit' to exit\")\n",
    "    \n",
    "    while True:\n",
    "        instruction = input(\"\\nEnter instruction: \")\n",
    "        if instruction.lower() == 'quit':\n",
    "            break\n",
    "            \n",
    "        input_text = input(\"Enter input (optional): \")\n",
    "        \n",
    "        print(\"\\nGenerating responses...\")\n",
    "        \n",
    "        # Base model response\n",
    "        base_response = generate_response(base_model, tokenizer, instruction, input_text)\n",
    "        print(f\"\\nBase Model Response:\\n{base_response}\")\n",
    "        \n",
    "        # Finetuned model response  \n",
    "        finetuned_response = generate_response(finetuned_model, tokenizer, instruction, input_text)\n",
    "        print(f\"\\nFinetuned Model Response:\\n{finetuned_response}\")\n",
    "        \n",
    "        print(\"-\" * 60)"
   ]
  },
  {
   "cell_type": "code",
   "execution_count": 16,
   "metadata": {},
   "outputs": [
    {
     "name": "stdout",
     "output_type": "stream",
     "text": [
      "✅ Đã nén thư mục ./finetuned_model thành file ./finetuned_model.zip\n"
     ]
    }
   ],
   "source": [
    "import zipfile\n",
    "import os\n",
    "\n",
    "# Đường dẫn thư mục cần zip\n",
    "folder_path = \"./finetuned_model\"\n",
    "# Đường dẫn file zip sau khi tạo\n",
    "zip_path = \"./finetuned_model.zip\"\n",
    "\n",
    "# Tạo file zip\n",
    "with zipfile.ZipFile(zip_path, 'w', zipfile.ZIP_DEFLATED) as zipf:\n",
    "    for root, dirs, files in os.walk(folder_path):\n",
    "        for file in files:\n",
    "            file_path = os.path.join(root, file)\n",
    "            # Tên file bên trong zip (loại bỏ phần path cha)\n",
    "            arcname = os.path.relpath(file_path, start=folder_path)\n",
    "            zipf.write(file_path, arcname)\n",
    "\n",
    "print(f\"✅ Đã nén thư mục {folder_path} thành file {zip_path}\")\n"
   ]
  }
 ],
 "metadata": {
  "language_info": {
   "name": "python"
  }
 },
 "nbformat": 4,
 "nbformat_minor": 2
}
